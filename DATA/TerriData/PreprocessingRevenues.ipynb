{
 "cells": [
  {
   "cell_type": "markdown",
   "metadata": {},
   "source": [
    "# Revenue Data\n",
    "\n",
    "Source=DNP a partir de información del FUT y DANE"
   ]
  },
  {
   "cell_type": "code",
   "execution_count": 8,
   "metadata": {},
   "outputs": [],
   "source": [
    "import pandas as pd\n",
    "import numpy as np"
   ]
  },
  {
   "cell_type": "code",
   "execution_count": 3,
   "metadata": {},
   "outputs": [],
   "source": [
    "rev=pd.read_excel('TerriData_Dim7_Sub1.xlsx')"
   ]
  },
  {
   "cell_type": "code",
   "execution_count": 9,
   "metadata": {},
   "outputs": [],
   "source": [
    "rev.drop(index=0,inplace=True)"
   ]
  },
  {
   "cell_type": "code",
   "execution_count": 17,
   "metadata": {},
   "outputs": [
    {
     "data": {
      "text/html": [
       "<div>\n",
       "<style scoped>\n",
       "    .dataframe tbody tr th:only-of-type {\n",
       "        vertical-align: middle;\n",
       "    }\n",
       "\n",
       "    .dataframe tbody tr th {\n",
       "        vertical-align: top;\n",
       "    }\n",
       "\n",
       "    .dataframe thead th {\n",
       "        text-align: right;\n",
       "    }\n",
       "</style>\n",
       "<table border=\"1\" class=\"dataframe\">\n",
       "  <thead>\n",
       "    <tr style=\"text-align: right;\">\n",
       "      <th></th>\n",
       "      <th>Código Departamento</th>\n",
       "      <th>Departamento</th>\n",
       "      <th>Código Entidad</th>\n",
       "      <th>Entidad</th>\n",
       "      <th>Dimensión</th>\n",
       "      <th>Subcategoría</th>\n",
       "      <th>Indicador</th>\n",
       "      <th>Dato Numérico</th>\n",
       "      <th>Dato Cualitativo</th>\n",
       "      <th>Año</th>\n",
       "      <th>Mes</th>\n",
       "      <th>Fuente</th>\n",
       "      <th>Unidad de Medida</th>\n",
       "    </tr>\n",
       "  </thead>\n",
       "  <tbody>\n",
       "    <tr>\n",
       "      <th>1221</th>\n",
       "      <td>5.0</td>\n",
       "      <td>Antioquia</td>\n",
       "      <td>5000.0</td>\n",
       "      <td>Antioquia</td>\n",
       "      <td>Finanzas públicas</td>\n",
       "      <td>Operaciones efectivas de caja</td>\n",
       "      <td>Regalías per cápita (Valor efectivamente girad...</td>\n",
       "      <td>7.937,84</td>\n",
       "      <td>NaN</td>\n",
       "      <td>2000.0</td>\n",
       "      <td>12.0</td>\n",
       "      <td>DNP a partir de información del FUT y DANE</td>\n",
       "      <td>Pesos corrientes</td>\n",
       "    </tr>\n",
       "    <tr>\n",
       "      <th>1222</th>\n",
       "      <td>5.0</td>\n",
       "      <td>Antioquia</td>\n",
       "      <td>5000.0</td>\n",
       "      <td>Antioquia</td>\n",
       "      <td>Finanzas públicas</td>\n",
       "      <td>Operaciones efectivas de caja</td>\n",
       "      <td>Regalías per cápita (Valor efectivamente girad...</td>\n",
       "      <td>10.988,11</td>\n",
       "      <td>NaN</td>\n",
       "      <td>2001.0</td>\n",
       "      <td>12.0</td>\n",
       "      <td>DNP a partir de información del FUT y DANE</td>\n",
       "      <td>Pesos corrientes</td>\n",
       "    </tr>\n",
       "  </tbody>\n",
       "</table>\n",
       "</div>"
      ],
      "text/plain": [
       "      Código Departamento Departamento  Código Entidad    Entidad  \\\n",
       "1221                  5.0    Antioquia          5000.0  Antioquia   \n",
       "1222                  5.0    Antioquia          5000.0  Antioquia   \n",
       "\n",
       "              Dimensión                   Subcategoría  \\\n",
       "1221  Finanzas públicas  Operaciones efectivas de caja   \n",
       "1222  Finanzas públicas  Operaciones efectivas de caja   \n",
       "\n",
       "                                              Indicador Dato Numérico  \\\n",
       "1221  Regalías per cápita (Valor efectivamente girad...      7.937,84   \n",
       "1222  Regalías per cápita (Valor efectivamente girad...     10.988,11   \n",
       "\n",
       "      Dato Cualitativo     Año   Mes  \\\n",
       "1221               NaN  2000.0  12.0   \n",
       "1222               NaN  2001.0  12.0   \n",
       "\n",
       "                                          Fuente  Unidad de Medida  \n",
       "1221  DNP a partir de información del FUT y DANE  Pesos corrientes  \n",
       "1222  DNP a partir de información del FUT y DANE  Pesos corrientes  "
      ]
     },
     "execution_count": 17,
     "metadata": {},
     "output_type": "execute_result"
    }
   ],
   "source": [
    "# filter to get only revenues\n",
    "revenues=rev[rev['Indicador']=='Regalías per cápita (Valor efectivamente girado al municipio)']\n",
    "\n",
    "# drop at level of colombia\n",
    "revenues=revenues[revenues.Departamento != 'Colombia']\n",
    "\n",
    "revenues.head(2)"
   ]
  },
  {
   "cell_type": "code",
   "execution_count": 24,
   "metadata": {},
   "outputs": [],
   "source": [
    "# keep relevant columns\n",
    "revenues=revenues[['Entidad','Código Entidad','Dato Numérico','Año']]\n",
    "\n",
    "# rename columns \n",
    "revenues.rename(columns={'Entidad':'munname','Código Entidad':'muncode','Dato Numérico':'CapitalRevenue','Año':'year'},inplace=True)"
   ]
  },
  {
   "cell_type": "code",
   "execution_count": 38,
   "metadata": {},
   "outputs": [
    {
     "name": "stderr",
     "output_type": "stream",
     "text": [
      "C:\\Users\\anasa\\AppData\\Local\\Temp\\ipykernel_28684\\1894758209.py:1: FutureWarning: The default value of regex will change from True to False in a future version. In addition, single character regular expressions will *not* be treated as literal strings when regex=True.\n",
      "  revenues.CapitalRevenue=revenues.CapitalRevenue.str.replace('.','')\n"
     ]
    }
   ],
   "source": [
    "revenues.CapitalRevenue=revenues.CapitalRevenue.str.replace('.','')\n",
    "revenues.CapitalRevenue=revenues.CapitalRevenue.str.replace(',','.')\n",
    "revenues.CapitalRevenue=revenues.CapitalRevenue.astype(float)"
   ]
  },
  {
   "cell_type": "code",
   "execution_count": 40,
   "metadata": {},
   "outputs": [],
   "source": [
    "revenues.to_csv('revenues.csv')"
   ]
  },
  {
   "cell_type": "markdown",
   "metadata": {},
   "source": [
    "# Turn to 2006 pesos"
   ]
  },
  {
   "cell_type": "code",
   "execution_count": 6,
   "metadata": {},
   "outputs": [],
   "source": [
    "revenues=pd.read_csv('revenues.csv',index_col=0)"
   ]
  },
  {
   "cell_type": "code",
   "execution_count": 10,
   "metadata": {},
   "outputs": [
    {
     "data": {
      "text/html": [
       "<div>\n",
       "<style scoped>\n",
       "    .dataframe tbody tr th:only-of-type {\n",
       "        vertical-align: middle;\n",
       "    }\n",
       "\n",
       "    .dataframe tbody tr th {\n",
       "        vertical-align: top;\n",
       "    }\n",
       "\n",
       "    .dataframe thead th {\n",
       "        text-align: right;\n",
       "    }\n",
       "</style>\n",
       "<table border=\"1\" class=\"dataframe\">\n",
       "  <thead>\n",
       "    <tr style=\"text-align: right;\">\n",
       "      <th></th>\n",
       "      <th>munname</th>\n",
       "      <th>muncode</th>\n",
       "      <th>CapitalRevenue</th>\n",
       "      <th>year</th>\n",
       "    </tr>\n",
       "  </thead>\n",
       "  <tbody>\n",
       "    <tr>\n",
       "      <th>1221</th>\n",
       "      <td>Antioquia</td>\n",
       "      <td>5000.0</td>\n",
       "      <td>793784.0</td>\n",
       "      <td>2000.0</td>\n",
       "    </tr>\n",
       "    <tr>\n",
       "      <th>1222</th>\n",
       "      <td>Antioquia</td>\n",
       "      <td>5000.0</td>\n",
       "      <td>1098811.0</td>\n",
       "      <td>2001.0</td>\n",
       "    </tr>\n",
       "  </tbody>\n",
       "</table>\n",
       "</div>"
      ],
      "text/plain": [
       "        munname  muncode  CapitalRevenue    year\n",
       "1221  Antioquia   5000.0        793784.0  2000.0\n",
       "1222  Antioquia   5000.0       1098811.0  2001.0"
      ]
     },
     "execution_count": 10,
     "metadata": {},
     "output_type": "execute_result"
    }
   ],
   "source": [
    "revenues.head(2)"
   ]
  },
  {
   "cell_type": "code",
   "execution_count": 58,
   "metadata": {},
   "outputs": [],
   "source": [
    "# turn capital revenue in 2006 pesos \n",
    "\n",
    "# cpi index\n",
    "cpi=pd.read_csv(\"CPI_colombia.csv\")\n",
    "\n",
    "# keep relevant columns \n",
    "cpi=cpi[['Unit of measure','TIME_PERIOD','OBS_VALUE']]\n",
    "\n",
    "# only information on CPI index \n",
    "cpi=cpi[cpi['Unit of measure']=='Index'].reset_index().drop(['index','Unit of measure'],axis=1)\n",
    "\n",
    "# rename columns \n",
    "cpi.rename(columns={'TIME_PERIOD':'year','OBS_VALUE':'CPI'}, inplace=True)\n",
    "\n",
    "# extract 2006 CPI\n",
    "cpi_2006=cpi[cpi['year']==2006]['CPI'].values\n",
    "\n",
    "# create cpi tranformer column\n",
    "cpi['frac']=cpi_2006/cpi['CPI']\n",
    "\n",
    "# merge cpi to data\n",
    "rev_2006=pd.merge(revenues,cpi,how='left',on='year',validate='m:1')\n",
    "\n",
    "# turn revenues to 2006 pesos\n",
    "rev_2006['caprev_2006_percapita']=rev_2006['CapitalRevenue']*rev_2006['frac']\n",
    "\n",
    "# drop unnecessary columns \n",
    "rev_2006.drop(columns=['CPI','frac'],inplace=True)"
   ]
  },
  {
   "cell_type": "code",
   "execution_count": 62,
   "metadata": {},
   "outputs": [],
   "source": [
    "rev_2006.drop(columns='munname',inplace=True)"
   ]
  },
  {
   "cell_type": "code",
   "execution_count": 63,
   "metadata": {},
   "outputs": [],
   "source": [
    "rev_2006.to_csv('revenue_2006.csv')"
   ]
  }
 ],
 "metadata": {
  "kernelspec": {
   "display_name": "base",
   "language": "python",
   "name": "python3"
  },
  "language_info": {
   "codemirror_mode": {
    "name": "ipython",
    "version": 3
   },
   "file_extension": ".py",
   "mimetype": "text/x-python",
   "name": "python",
   "nbconvert_exporter": "python",
   "pygments_lexer": "ipython3",
   "version": "3.11.9"
  }
 },
 "nbformat": 4,
 "nbformat_minor": 2
}
