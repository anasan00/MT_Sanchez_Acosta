{
 "cells": [
  {
   "cell_type": "markdown",
   "metadata": {},
   "source": [
    "# SIECVAC preprocessing\n",
    "The data from SIEVCAC is collected, mapped and filtered so that it can be joined to the main table.\n",
    "For Belic Actions, Terrorist Attacks ans Attacks to towns, the MELTT method is applied to ensure that events are no beeing counted twice when they are found in different tables. "
   ]
  },
  {
   "cell_type": "code",
   "execution_count": 1,
   "metadata": {},
   "outputs": [],
   "source": [
    "# load packages and modules\n",
    "import pandas as pd \n",
    "from SIEVCACFunctions import *"
   ]
  },
  {
   "cell_type": "code",
   "execution_count": 2,
   "metadata": {},
   "outputs": [],
   "source": [
    "# import data \n",
    "AB=pd.read_csv('RAW DATA/AB.csv')\n",
    "AP=pd.read_csv('RAW DATA/AP.csv')\n",
    "MA=pd.read_csv('RAW DATA/MA.csv')\n",
    "AT=pd.read_csv('RAW DATA/AT.csv')\n",
    "SE=pd.read_csv('RAW DATA/SE.csv')"
   ]
  },
  {
   "cell_type": "code",
   "execution_count": 138,
   "metadata": {},
   "outputs": [],
   "source": [
    "pd.set_option('display.max_columns', None)"
   ]
  },
  {
   "cell_type": "markdown",
   "metadata": {},
   "source": [
    "# MELTT Implementation\n",
    "* Here the data will be set up for applying MELTT\n",
    "* Afterward the deduplicated data will be used"
   ]
  },
  {
   "cell_type": "markdown",
   "metadata": {},
   "source": [
    "## Belic Actions \n",
    "\n",
    "Warlike actions in the framework of armed conflict are understood as ‘(...) any act carried out in the legitimate conduct of war, taking into account that it responds to a defined military objective and makes use of lawful means and weapons in combat’ (GMH, 2013). (GMH, 2013) 1. Warfare involves at least two parties. Either governmental or state armed forces and organised armed groups2 , which, under the direction of a command, directly conduct hostilities (ICRC, Vietri, Melzer)3 or organised armed groups among themselves.\n",
    "\n",
    "`Translated with DeepL.com (free version)`\n",
    "\n",
    "I will assume that events are not 100 % equal in all variables are not duplicates.\n",
    " "
   ]
  },
  {
   "cell_type": "markdown",
   "metadata": {},
   "source": [
    "### TO DO: \n",
    "* Put clash analysis in some sort of appendix code."
   ]
  },
  {
   "cell_type": "code",
   "execution_count": 139,
   "metadata": {},
   "outputs": [
    {
     "name": "stdout",
     "output_type": "stream",
     "text": [
      "Number of observations: 33467\n"
     ]
    }
   ],
   "source": [
    "# drop observations outside the sample period\n",
    "indexYear = AB[ (AB['a_o'] < 1988) | (AB['a_o'] > 2022) ].index\n",
    "AB=AB.drop(indexYear)\n",
    "print('Number of observations:',len(AB))\n",
    "\n",
    "# define columns for defining duplicate information \n",
    "dup_cols=list(AB.columns[2:])\n",
    "\n",
    "# drop duplicates with respects to those columns \n",
    "AB_f=AB.drop_duplicates(subset=dup_cols,ignore_index=True)"
   ]
  },
  {
   "cell_type": "code",
   "execution_count": 140,
   "metadata": {},
   "outputs": [
    {
     "name": "stdout",
     "output_type": "stream",
     "text": [
      "relative observations lost 0.0106\n"
     ]
    }
   ],
   "source": [
    "# define columns for defining duplicate information \n",
    "dup_cols=list(AB.columns[2:])\n",
    "\n",
    "# drop duplicates with respects to those columns \n",
    "AB_f=AB.drop_duplicates(subset=dup_cols,ignore_index=True)\n",
    "\n",
    "# see how much of the original data was lost\n",
    "len_nodup=len(AB_f)\n",
    "print('relative observations lost',round(1-len(AB_f)/len(AB),4))"
   ]
  },
  {
   "cell_type": "markdown",
   "metadata": {},
   "source": [
    "One can see that 1,06% of the observations are lost after getting rid of the duplicates"
   ]
  },
  {
   "cell_type": "code",
   "execution_count": 141,
   "metadata": {},
   "outputs": [
    {
     "name": "stdout",
     "output_type": "stream",
     "text": [
      "total relative observations lost 0.0146\n",
      "missing info relative observations lost 0.004\n"
     ]
    }
   ],
   "source": [
    "# drop observations that do not have any informations on year or municipality or point location\n",
    "indexMiss = AB_f[ (AB_f['a_o'] == 0) | (AB_f['c_digo_dane_de_municipio'] == 0) | (AB_f['latitud_longitud']==\"{'type': 'Point', 'coordinates': [-72, 4]}\") ].index\n",
    "AB_f=AB_f.drop(indexMiss)\n",
    "print('total relative observations lost',round(1-len(AB_f)/len(AB),4))\n",
    "print('missing info relative observations lost',round(((len_nodup-len(AB_f))/len(AB)),4))"
   ]
  },
  {
   "cell_type": "markdown",
   "metadata": {},
   "source": [
    "One can see that 0,4% of the observations are lost after getting rid of observations with missing information on the year or municipality. For a total loss of 1,46% "
   ]
  },
  {
   "cell_type": "code",
   "execution_count": 142,
   "metadata": {},
   "outputs": [],
   "source": [
    "# map variables\n",
    "AB_f['map']=[map_AB_AP(modality=mod,iniciative=ini,g1=g1,g2=g2,g3=g3) for mod,ini,g1,g2,g3 in zip(AB_f['modalidad'],\n",
    "                                                                                               AB_f['iniciativa'],\n",
    "                                                                                               AB_f['grupo_armado_1'],\n",
    "                                                                                               AB_f['grupo_armado_2'],\n",
    "                                                                                               AB_f['grupo_armado_3'])]\n",
    "# create flags \n",
    "for flag in ['clash', 'govattack', 'guerrattack', 'other', 'parattack', 'posdattack']:\n",
    "    AB_f[f'{flag}']=[1 if label==flag else 0 for label in AB_f['map']]"
   ]
  },
  {
   "cell_type": "code",
   "execution_count": 143,
   "metadata": {},
   "outputs": [
    {
     "data": {
      "text/html": [
       "<div>\n",
       "<style scoped>\n",
       "    .dataframe tbody tr th:only-of-type {\n",
       "        vertical-align: middle;\n",
       "    }\n",
       "\n",
       "    .dataframe tbody tr th {\n",
       "        vertical-align: top;\n",
       "    }\n",
       "\n",
       "    .dataframe thead th {\n",
       "        text-align: right;\n",
       "    }\n",
       "</style>\n",
       "<table border=\"1\" class=\"dataframe\">\n",
       "  <thead>\n",
       "    <tr style=\"text-align: right;\">\n",
       "      <th></th>\n",
       "      <th>Unnamed: 0</th>\n",
       "      <th>id_caso</th>\n",
       "      <th>id_caso_relacionado</th>\n",
       "      <th>a_o</th>\n",
       "      <th>mes</th>\n",
       "      <th>d_a</th>\n",
       "      <th>c_digo_dane_de_municipio</th>\n",
       "      <th>municipio</th>\n",
       "      <th>departamento</th>\n",
       "      <th>regi_n</th>\n",
       "      <th>modalidad</th>\n",
       "      <th>iniciativa</th>\n",
       "      <th>tipo_de_unidad_atacada</th>\n",
       "      <th>grupo_armado_1</th>\n",
       "      <th>descripci_n_grupo_armado</th>\n",
       "      <th>grupo_armado_2</th>\n",
       "      <th>descripci_n_grupo_armado_1</th>\n",
       "      <th>lesionados_civiles</th>\n",
       "      <th>capturados</th>\n",
       "      <th>lesionados_combatientes</th>\n",
       "      <th>militares</th>\n",
       "      <th>polic_as</th>\n",
       "      <th>otras_fuerzas_armadas</th>\n",
       "      <th>agentes_del_estado_sin</th>\n",
       "      <th>total_agentes_del_estado</th>\n",
       "      <th>guerrilleros</th>\n",
       "      <th>paramilitares</th>\n",
       "      <th>grupos_posdesmovilizaci_n</th>\n",
       "      <th>combatientes_sin_informaci</th>\n",
       "      <th>otros_grupos_armados</th>\n",
       "      <th>total_combatientes_de_grupos</th>\n",
       "      <th>total_combatientes</th>\n",
       "      <th>personas_sin_informaci_n</th>\n",
       "      <th>total_civiles</th>\n",
       "      <th>ventaja_militar</th>\n",
       "      <th>total_de_v_ctimas_del_caso</th>\n",
       "      <th>latitud_longitud</th>\n",
       "      <th>grupo_al_que_pertenecen_los</th>\n",
       "      <th>grupo_armado_3</th>\n",
       "      <th>descripci_n_grupo_armado_2</th>\n",
       "      <th>map</th>\n",
       "      <th>clash</th>\n",
       "      <th>govattack</th>\n",
       "      <th>guerrattack</th>\n",
       "      <th>other</th>\n",
       "      <th>parattack</th>\n",
       "      <th>posdattack</th>\n",
       "    </tr>\n",
       "  </thead>\n",
       "  <tbody>\n",
       "    <tr>\n",
       "      <th>0</th>\n",
       "      <td>0</td>\n",
       "      <td>1</td>\n",
       "      <td>CR000497</td>\n",
       "      <td>2006</td>\n",
       "      <td>3</td>\n",
       "      <td>12</td>\n",
       "      <td>27073</td>\n",
       "      <td>BAGADO</td>\n",
       "      <td>CHOCO</td>\n",
       "      <td>ATRATO</td>\n",
       "      <td>COMBATE Y/O CONTACTO ARMADO</td>\n",
       "      <td>GRUPOS ARMADOS ORGANIZADOS</td>\n",
       "      <td>SIN INFORMACIÓN</td>\n",
       "      <td>AGENTE DEL ESTADO</td>\n",
       "      <td>EJÉRCITO NACIONAL</td>\n",
       "      <td>GUERRILLA</td>\n",
       "      <td>FARC</td>\n",
       "      <td>6</td>\n",
       "      <td>0</td>\n",
       "      <td>0</td>\n",
       "      <td>0</td>\n",
       "      <td>0</td>\n",
       "      <td>0</td>\n",
       "      <td>0</td>\n",
       "      <td>0</td>\n",
       "      <td>0</td>\n",
       "      <td>0</td>\n",
       "      <td>0</td>\n",
       "      <td>0</td>\n",
       "      <td>0</td>\n",
       "      <td>0</td>\n",
       "      <td>0</td>\n",
       "      <td>0</td>\n",
       "      <td>1</td>\n",
       "      <td>GRUPOS ARMADOS ORGANIZADOS</td>\n",
       "      <td>1</td>\n",
       "      <td>{'type': 'Point', 'coordinates': [-76.41529298...</td>\n",
       "      <td>NaN</td>\n",
       "      <td>NaN</td>\n",
       "      <td>NaN</td>\n",
       "      <td>clash</td>\n",
       "      <td>1</td>\n",
       "      <td>0</td>\n",
       "      <td>0</td>\n",
       "      <td>0</td>\n",
       "      <td>0</td>\n",
       "      <td>0</td>\n",
       "    </tr>\n",
       "    <tr>\n",
       "      <th>1</th>\n",
       "      <td>4</td>\n",
       "      <td>10000</td>\n",
       "      <td>NaN</td>\n",
       "      <td>1996</td>\n",
       "      <td>2</td>\n",
       "      <td>17</td>\n",
       "      <td>85010</td>\n",
       "      <td>AGUAZUL</td>\n",
       "      <td>CASANARE</td>\n",
       "      <td>PIEDEMONTE LLANERO</td>\n",
       "      <td>COMBATE Y/O CONTACTO ARMADO</td>\n",
       "      <td>FUERZAS ARMADAS ESTATALES</td>\n",
       "      <td>SIN INFORMACIÓN</td>\n",
       "      <td>AGENTE DEL ESTADO</td>\n",
       "      <td>EJÉRCITO NACIONAL</td>\n",
       "      <td>GUERRILLA</td>\n",
       "      <td>ELN</td>\n",
       "      <td>0</td>\n",
       "      <td>0</td>\n",
       "      <td>0</td>\n",
       "      <td>0</td>\n",
       "      <td>0</td>\n",
       "      <td>0</td>\n",
       "      <td>0</td>\n",
       "      <td>0</td>\n",
       "      <td>2</td>\n",
       "      <td>0</td>\n",
       "      <td>0</td>\n",
       "      <td>0</td>\n",
       "      <td>0</td>\n",
       "      <td>2</td>\n",
       "      <td>2</td>\n",
       "      <td>0</td>\n",
       "      <td>0</td>\n",
       "      <td>FUERZAS ARMADAS ESTATALES</td>\n",
       "      <td>2</td>\n",
       "      <td>{'type': 'Point', 'coordinates': [-72.45852372...</td>\n",
       "      <td>NaN</td>\n",
       "      <td>NaN</td>\n",
       "      <td>NaN</td>\n",
       "      <td>clash</td>\n",
       "      <td>1</td>\n",
       "      <td>0</td>\n",
       "      <td>0</td>\n",
       "      <td>0</td>\n",
       "      <td>0</td>\n",
       "      <td>0</td>\n",
       "    </tr>\n",
       "  </tbody>\n",
       "</table>\n",
       "</div>"
      ],
      "text/plain": [
       "   Unnamed: 0  id_caso id_caso_relacionado   a_o  mes  d_a  \\\n",
       "0           0        1            CR000497  2006    3   12   \n",
       "1           4    10000                 NaN  1996    2   17   \n",
       "\n",
       "   c_digo_dane_de_municipio municipio departamento              regi_n  \\\n",
       "0                     27073    BAGADO        CHOCO              ATRATO   \n",
       "1                     85010   AGUAZUL     CASANARE  PIEDEMONTE LLANERO   \n",
       "\n",
       "                     modalidad                  iniciativa  \\\n",
       "0  COMBATE Y/O CONTACTO ARMADO  GRUPOS ARMADOS ORGANIZADOS   \n",
       "1  COMBATE Y/O CONTACTO ARMADO   FUERZAS ARMADAS ESTATALES   \n",
       "\n",
       "  tipo_de_unidad_atacada     grupo_armado_1 descripci_n_grupo_armado  \\\n",
       "0        SIN INFORMACIÓN  AGENTE DEL ESTADO        EJÉRCITO NACIONAL   \n",
       "1        SIN INFORMACIÓN  AGENTE DEL ESTADO        EJÉRCITO NACIONAL   \n",
       "\n",
       "  grupo_armado_2 descripci_n_grupo_armado_1  lesionados_civiles  capturados  \\\n",
       "0      GUERRILLA                       FARC                   6           0   \n",
       "1      GUERRILLA                        ELN                   0           0   \n",
       "\n",
       "   lesionados_combatientes  militares  polic_as  otras_fuerzas_armadas  \\\n",
       "0                        0          0         0                      0   \n",
       "1                        0          0         0                      0   \n",
       "\n",
       "   agentes_del_estado_sin  total_agentes_del_estado  guerrilleros  \\\n",
       "0                       0                         0             0   \n",
       "1                       0                         0             2   \n",
       "\n",
       "   paramilitares  grupos_posdesmovilizaci_n  combatientes_sin_informaci  \\\n",
       "0              0                          0                           0   \n",
       "1              0                          0                           0   \n",
       "\n",
       "   otros_grupos_armados  total_combatientes_de_grupos  total_combatientes  \\\n",
       "0                     0                             0                   0   \n",
       "1                     0                             2                   2   \n",
       "\n",
       "   personas_sin_informaci_n  total_civiles             ventaja_militar  \\\n",
       "0                         0              1  GRUPOS ARMADOS ORGANIZADOS   \n",
       "1                         0              0   FUERZAS ARMADAS ESTATALES   \n",
       "\n",
       "   total_de_v_ctimas_del_caso  \\\n",
       "0                           1   \n",
       "1                           2   \n",
       "\n",
       "                                    latitud_longitud  \\\n",
       "0  {'type': 'Point', 'coordinates': [-76.41529298...   \n",
       "1  {'type': 'Point', 'coordinates': [-72.45852372...   \n",
       "\n",
       "  grupo_al_que_pertenecen_los grupo_armado_3 descripci_n_grupo_armado_2  \\\n",
       "0                         NaN            NaN                        NaN   \n",
       "1                         NaN            NaN                        NaN   \n",
       "\n",
       "     map  clash  govattack  guerrattack  other  parattack  posdattack  \n",
       "0  clash      1          0            0      0          0           0  \n",
       "1  clash      1          0            0      0          0           0  "
      ]
     },
     "execution_count": 143,
     "metadata": {},
     "output_type": "execute_result"
    }
   ],
   "source": [
    "AB_f.head(2)"
   ]
  },
  {
   "cell_type": "code",
   "execution_count": 144,
   "metadata": {},
   "outputs": [],
   "source": [
    "# it is not --> sum victims and clashes so is counted as more but only related to one event \n",
    "AB_g=AB_f.groupby(by=['id_caso_relacionado', 'a_o', 'mes', 'd_a', 'latitud_longitud',\n",
    "       'c_digo_dane_de_municipio', 'municipio', 'departamento', 'regi_n',\n",
    "        'grupo_armado_1',\n",
    "       'descripci_n_grupo_armado', 'grupo_armado_2',\n",
    "       'descripci_n_grupo_armado_1','grupo_armado_3',\n",
    "       'descripci_n_grupo_armado_2'], dropna=False).sum(numeric_only=True)[['total_de_v_ctimas_del_caso','clash', 'govattack',\n",
    "       'guerrattack', 'other', 'parattack', 'posdattack']].reset_index()"
   ]
  },
  {
   "cell_type": "code",
   "execution_count": 145,
   "metadata": {},
   "outputs": [
    {
     "data": {
      "text/html": [
       "<div>\n",
       "<style scoped>\n",
       "    .dataframe tbody tr th:only-of-type {\n",
       "        vertical-align: middle;\n",
       "    }\n",
       "\n",
       "    .dataframe tbody tr th {\n",
       "        vertical-align: top;\n",
       "    }\n",
       "\n",
       "    .dataframe thead th {\n",
       "        text-align: right;\n",
       "    }\n",
       "</style>\n",
       "<table border=\"1\" class=\"dataframe\">\n",
       "  <thead>\n",
       "    <tr style=\"text-align: right;\">\n",
       "      <th></th>\n",
       "      <th>id_caso_relacionado</th>\n",
       "      <th>a_o</th>\n",
       "      <th>mes</th>\n",
       "      <th>d_a</th>\n",
       "      <th>latitud_longitud</th>\n",
       "      <th>c_digo_dane_de_municipio</th>\n",
       "      <th>municipio</th>\n",
       "      <th>departamento</th>\n",
       "      <th>regi_n</th>\n",
       "      <th>grupo_armado_1</th>\n",
       "      <th>descripci_n_grupo_armado</th>\n",
       "      <th>grupo_armado_2</th>\n",
       "      <th>descripci_n_grupo_armado_1</th>\n",
       "      <th>grupo_armado_3</th>\n",
       "      <th>descripci_n_grupo_armado_2</th>\n",
       "      <th>total_de_v_ctimas_del_caso</th>\n",
       "      <th>clash</th>\n",
       "      <th>govattack</th>\n",
       "      <th>guerrattack</th>\n",
       "      <th>other</th>\n",
       "      <th>parattack</th>\n",
       "      <th>posdattack</th>\n",
       "    </tr>\n",
       "  </thead>\n",
       "  <tbody>\n",
       "  </tbody>\n",
       "</table>\n",
       "</div>"
      ],
      "text/plain": [
       "Empty DataFrame\n",
       "Columns: [id_caso_relacionado, a_o, mes, d_a, latitud_longitud, c_digo_dane_de_municipio, municipio, departamento, regi_n, grupo_armado_1, descripci_n_grupo_armado, grupo_armado_2, descripci_n_grupo_armado_1, grupo_armado_3, descripci_n_grupo_armado_2, total_de_v_ctimas_del_caso, clash, govattack, guerrattack, other, parattack, posdattack]\n",
       "Index: []"
      ]
     },
     "execution_count": 145,
     "metadata": {},
     "output_type": "execute_result"
    }
   ],
   "source": [
    "#check again for without modalidad and inciativa and tipo de unidad duplicates \n",
    "AB_g[AB_g.duplicated(subset=['id_caso_relacionado', 'a_o', 'mes', 'd_a', 'latitud_longitud',\n",
    "       'c_digo_dane_de_municipio', 'municipio', 'departamento', 'regi_n',\n",
    "       'grupo_armado_1',\n",
    "       'descripci_n_grupo_armado', 'grupo_armado_2',\n",
    "       'descripci_n_grupo_armado_1','grupo_armado_3',\n",
    "       'descripci_n_grupo_armado_2','clash','govattack','guerrattack','parattack'], keep=False)]"
   ]
  },
  {
   "cell_type": "code",
   "execution_count": 146,
   "metadata": {},
   "outputs": [
    {
     "name": "stdout",
     "output_type": "stream",
     "text": [
      "clash {0, 1, 2, 3, 4}\n",
      "govattack {0, 1, 2}\n",
      "guerrattack {0, 1, 2, 3}\n",
      "other {0, 1, 2}\n",
      "parattack {0, 1}\n",
      "posdattack {0, 1, 2}\n"
     ]
    }
   ],
   "source": [
    "# check if there is more than 1 observation for every day in every location\n",
    "for flag in ['clash', 'govattack', 'guerrattack', 'other', 'parattack', 'posdattack']:\n",
    "    print(flag,set(AB_g[f'{flag}']))"
   ]
  },
  {
   "cell_type": "markdown",
   "metadata": {},
   "source": [
    "Format Table such that it matches the format for MELTT"
   ]
  },
  {
   "cell_type": "code",
   "execution_count": 147,
   "metadata": {},
   "outputs": [],
   "source": [
    "# map coordinates to latitude and longitude \n",
    "# create a column with the dictionary as objects \n",
    "AB_g['latitud_longitud_dict']=[eval(_dict) for _dict in AB_g['latitud_longitud']]\n",
    "AB_g['latitud']=[_dict['coordinates'][1] for _dict in AB_g['latitud_longitud_dict']]\n",
    "AB_g['longitud']=[_dict['coordinates'][0] for _dict in AB_g['latitud_longitud_dict']]\n",
    "\n",
    "# create a date variable\n",
    "AB_g['date']=['-'.join([str(year),str(month),str(day)]) for year,month,day in zip(AB_g['a_o'],AB_g['mes'],AB_g['d_a'])]\n",
    "\n",
    "# create a variable for the event \n",
    "AB_g['event']=AB_g.index\n",
    "\n",
    "# dataset variable\n",
    "AB_g['dataset']='AB'"
   ]
  },
  {
   "cell_type": "code",
   "execution_count": 148,
   "metadata": {},
   "outputs": [
    {
     "data": {
      "text/html": [
       "<div>\n",
       "<style scoped>\n",
       "    .dataframe tbody tr th:only-of-type {\n",
       "        vertical-align: middle;\n",
       "    }\n",
       "\n",
       "    .dataframe tbody tr th {\n",
       "        vertical-align: top;\n",
       "    }\n",
       "\n",
       "    .dataframe thead th {\n",
       "        text-align: right;\n",
       "    }\n",
       "</style>\n",
       "<table border=\"1\" class=\"dataframe\">\n",
       "  <thead>\n",
       "    <tr style=\"text-align: right;\">\n",
       "      <th></th>\n",
       "      <th>latitud_longitud_dict</th>\n",
       "    </tr>\n",
       "  </thead>\n",
       "  <tbody>\n",
       "    <tr>\n",
       "      <th>0</th>\n",
       "      <td>{'type': 'Point', 'coordinates': [-71.42675117...</td>\n",
       "    </tr>\n",
       "    <tr>\n",
       "      <th>1</th>\n",
       "      <td>{'type': 'Point', 'coordinates': [-70.74635030...</td>\n",
       "    </tr>\n",
       "    <tr>\n",
       "      <th>2</th>\n",
       "      <td>{'type': 'Point', 'coordinates': [-74.78996877...</td>\n",
       "    </tr>\n",
       "    <tr>\n",
       "      <th>3</th>\n",
       "      <td>{'type': 'Point', 'coordinates': [-72.91148891...</td>\n",
       "    </tr>\n",
       "    <tr>\n",
       "      <th>4</th>\n",
       "      <td>{'type': 'Point', 'coordinates': [-73.96271743...</td>\n",
       "    </tr>\n",
       "    <tr>\n",
       "      <th>...</th>\n",
       "      <td>...</td>\n",
       "    </tr>\n",
       "    <tr>\n",
       "      <th>31913</th>\n",
       "      <td>{'type': 'Point', 'coordinates': [-74.81383960...</td>\n",
       "    </tr>\n",
       "    <tr>\n",
       "      <th>31914</th>\n",
       "      <td>{'type': 'Point', 'coordinates': [-73.46839757...</td>\n",
       "    </tr>\n",
       "    <tr>\n",
       "      <th>31915</th>\n",
       "      <td>{'type': 'Point', 'coordinates': [-77.23558958...</td>\n",
       "    </tr>\n",
       "    <tr>\n",
       "      <th>31916</th>\n",
       "      <td>{'type': 'Point', 'coordinates': [-77.24945028...</td>\n",
       "    </tr>\n",
       "    <tr>\n",
       "      <th>31917</th>\n",
       "      <td>{'type': 'Point', 'coordinates': [-73.09484592...</td>\n",
       "    </tr>\n",
       "  </tbody>\n",
       "</table>\n",
       "<p>31918 rows × 1 columns</p>\n",
       "</div>"
      ],
      "text/plain": [
       "                                   latitud_longitud_dict\n",
       "0      {'type': 'Point', 'coordinates': [-71.42675117...\n",
       "1      {'type': 'Point', 'coordinates': [-70.74635030...\n",
       "2      {'type': 'Point', 'coordinates': [-74.78996877...\n",
       "3      {'type': 'Point', 'coordinates': [-72.91148891...\n",
       "4      {'type': 'Point', 'coordinates': [-73.96271743...\n",
       "...                                                  ...\n",
       "31913  {'type': 'Point', 'coordinates': [-74.81383960...\n",
       "31914  {'type': 'Point', 'coordinates': [-73.46839757...\n",
       "31915  {'type': 'Point', 'coordinates': [-77.23558958...\n",
       "31916  {'type': 'Point', 'coordinates': [-77.24945028...\n",
       "31917  {'type': 'Point', 'coordinates': [-73.09484592...\n",
       "\n",
       "[31918 rows x 1 columns]"
      ]
     },
     "execution_count": 148,
     "metadata": {},
     "output_type": "execute_result"
    }
   ],
   "source": [
    "AB_g[['latitud_longitud_dict']]"
   ]
  },
  {
   "cell_type": "code",
   "execution_count": 174,
   "metadata": {},
   "outputs": [],
   "source": [
    "#rename variables into taxonomies \n",
    "    # TO DO: get rid of complexity if I do not use it in the end\n",
    "rename_dict={'id_caso_relacionado':'relcase_tax',\n",
    "             'grupo_armado_1':'g1_tax', \n",
    "             'descripci_n_grupo_armado':'dg1_tax',\n",
    "             'presunto_responsable':'g1_tax', \n",
    "             'descripci_n_presunto':'dg1_tax',\n",
    "            'grupo_armado_2':'g2_tax',\n",
    "       'descripci_n_grupo_armado_1':'dg2_tax', 'grupo_armado_3':'g3_tax',\n",
    "       'descripci_n_grupo_armado_2':'dg3_tax', \n",
    "       'total_de_v_ctimas_del_caso':'victims_tax',\n",
    "       'clash':'clash_tax',\n",
    "       'govattack':'govattack_tax', \n",
    "       'guerrattack':'guerrattack_tax', \n",
    "       'parattack':'parattack_tax',\n",
    "       'posdattack':'posdattack_tax',\n",
    "       'latitud':'latitude',\n",
    "       'longitud':'longitude',\n",
    "       'a_o':'year'}\n",
    "AB_g.rename(columns=rename_dict, inplace=True)"
   ]
  },
  {
   "cell_type": "code",
   "execution_count": 150,
   "metadata": {},
   "outputs": [],
   "source": [
    "AB_g.to_csv('MELTT\\ABforMELTT_allcols.csv')"
   ]
  },
  {
   "cell_type": "code",
   "execution_count": 151,
   "metadata": {},
   "outputs": [
    {
     "name": "stdout",
     "output_type": "stream",
     "text": [
      "observations lost 321\n"
     ]
    }
   ],
   "source": [
    "# drop observations that do not have any informations on month or day for MELTT\n",
    "indexMiss = AB_g[ (AB_g['mes'] == 0) | (AB_g['d_a']==0) ].index\n",
    "len_before=len(AB_g)\n",
    "AB_g=AB_g.drop(indexMiss)\n",
    "print('observations lost',len_before-len(AB_g))\n",
    "\n",
    "# create enddate column\n",
    "AB_g['enddate']=AB_g['date']\n",
    "\n",
    "# get only relevant columns \n",
    "AB_meltt=AB_g[['dataset','event','date','enddate','latitude','longitude','relcase_tax',\n",
    "              'g1_tax', 'dg1_tax', 'g2_tax', 'dg2_tax', 'g3_tax', 'dg3_tax',\n",
    "            'victims_tax', 'clash_tax', 'govattack_tax', 'guerrattack_tax','parattack_tax', 'posdattack_tax','c_digo_dane_de_municipio','year']]"
   ]
  },
  {
   "cell_type": "code",
   "execution_count": 152,
   "metadata": {},
   "outputs": [
    {
     "data": {
      "text/html": [
       "<div>\n",
       "<style scoped>\n",
       "    .dataframe tbody tr th:only-of-type {\n",
       "        vertical-align: middle;\n",
       "    }\n",
       "\n",
       "    .dataframe tbody tr th {\n",
       "        vertical-align: top;\n",
       "    }\n",
       "\n",
       "    .dataframe thead th {\n",
       "        text-align: right;\n",
       "    }\n",
       "</style>\n",
       "<table border=\"1\" class=\"dataframe\">\n",
       "  <thead>\n",
       "    <tr style=\"text-align: right;\">\n",
       "      <th></th>\n",
       "      <th>dataset</th>\n",
       "      <th>event</th>\n",
       "      <th>date</th>\n",
       "      <th>enddate</th>\n",
       "      <th>latitude</th>\n",
       "      <th>longitude</th>\n",
       "      <th>relcase_tax</th>\n",
       "      <th>g1_tax</th>\n",
       "      <th>dg1_tax</th>\n",
       "      <th>g2_tax</th>\n",
       "      <th>dg2_tax</th>\n",
       "      <th>g3_tax</th>\n",
       "      <th>dg3_tax</th>\n",
       "      <th>victims_tax</th>\n",
       "      <th>clash_tax</th>\n",
       "      <th>govattack_tax</th>\n",
       "      <th>guerrattack_tax</th>\n",
       "      <th>parattack_tax</th>\n",
       "      <th>posdattack_tax</th>\n",
       "      <th>c_digo_dane_de_municipio</th>\n",
       "      <th>year</th>\n",
       "    </tr>\n",
       "  </thead>\n",
       "  <tbody>\n",
       "    <tr>\n",
       "      <th>0</th>\n",
       "      <td>AB</td>\n",
       "      <td>0</td>\n",
       "      <td>2000-10-20</td>\n",
       "      <td>2000-10-20</td>\n",
       "      <td>7.026981</td>\n",
       "      <td>-71.426751</td>\n",
       "      <td>CR000004</td>\n",
       "      <td>AGENTE DEL ESTADO</td>\n",
       "      <td>EJÉRCITO NACIONAL - FUERZA AÉREA</td>\n",
       "      <td>GUERRILLA</td>\n",
       "      <td>FARC</td>\n",
       "      <td>NaN</td>\n",
       "      <td>NaN</td>\n",
       "      <td>13</td>\n",
       "      <td>1</td>\n",
       "      <td>0</td>\n",
       "      <td>0</td>\n",
       "      <td>0</td>\n",
       "      <td>0</td>\n",
       "      <td>81065</td>\n",
       "      <td>2000</td>\n",
       "    </tr>\n",
       "    <tr>\n",
       "      <th>1</th>\n",
       "      <td>AB</td>\n",
       "      <td>1</td>\n",
       "      <td>2000-12-15</td>\n",
       "      <td>2000-12-15</td>\n",
       "      <td>7.077359</td>\n",
       "      <td>-70.746350</td>\n",
       "      <td>CR000005</td>\n",
       "      <td>AGENTE DEL ESTADO</td>\n",
       "      <td>EJÉRCITO NACIONAL</td>\n",
       "      <td>GUERRILLA</td>\n",
       "      <td>FARC</td>\n",
       "      <td>NaN</td>\n",
       "      <td>NaN</td>\n",
       "      <td>0</td>\n",
       "      <td>0</td>\n",
       "      <td>0</td>\n",
       "      <td>1</td>\n",
       "      <td>0</td>\n",
       "      <td>0</td>\n",
       "      <td>81001</td>\n",
       "      <td>2000</td>\n",
       "    </tr>\n",
       "  </tbody>\n",
       "</table>\n",
       "</div>"
      ],
      "text/plain": [
       "  dataset  event        date     enddate  latitude  longitude relcase_tax  \\\n",
       "0      AB      0  2000-10-20  2000-10-20  7.026981 -71.426751    CR000004   \n",
       "1      AB      1  2000-12-15  2000-12-15  7.077359 -70.746350    CR000005   \n",
       "\n",
       "              g1_tax                           dg1_tax     g2_tax dg2_tax  \\\n",
       "0  AGENTE DEL ESTADO  EJÉRCITO NACIONAL - FUERZA AÉREA  GUERRILLA    FARC   \n",
       "1  AGENTE DEL ESTADO                 EJÉRCITO NACIONAL  GUERRILLA    FARC   \n",
       "\n",
       "  g3_tax dg3_tax  victims_tax  clash_tax  govattack_tax  guerrattack_tax  \\\n",
       "0    NaN     NaN           13          1              0                0   \n",
       "1    NaN     NaN            0          0              0                1   \n",
       "\n",
       "   parattack_tax  posdattack_tax  c_digo_dane_de_municipio  year  \n",
       "0              0               0                     81065  2000  \n",
       "1              0               0                     81001  2000  "
      ]
     },
     "execution_count": 152,
     "metadata": {},
     "output_type": "execute_result"
    }
   ],
   "source": [
    "AB_meltt.head(2)"
   ]
  },
  {
   "cell_type": "code",
   "execution_count": 153,
   "metadata": {},
   "outputs": [
    {
     "name": "stdout",
     "output_type": "stream",
     "text": [
      "Check for date missings: 0\n"
     ]
    }
   ],
   "source": [
    "print('Check for date missings:', AB_meltt['date'].isna().sum())\n",
    "# save output\n",
    "AB_meltt.to_csv('MELTT\\ABforMELTT.csv')"
   ]
  },
  {
   "cell_type": "markdown",
   "metadata": {},
   "source": [
    "## Attacks to villages\n",
    "It is understood as an incursion by an armed group that involves the temporary occupation of a territory and a continued military action aimed at the destruction of a military objective within an urban area or population centre. \n",
    "military action directed towards the razing of a military objective within an urban area or population centre and which is accompanied by attacks \n",
    "accompanied by attacks on and/or damage to the civilian population.\n",
    "\n",
    "`Translated with DeepL.com (free version)`"
   ]
  },
  {
   "cell_type": "code",
   "execution_count": 154,
   "metadata": {},
   "outputs": [
    {
     "name": "stdout",
     "output_type": "stream",
     "text": [
      "Number of observations: 391\n",
      "relative observations lost 0.0026\n",
      "absolute observations lost 1\n"
     ]
    }
   ],
   "source": [
    "# get only observations from sample period\n",
    "indexYear = AP[ (AP['a_o'] < 1988) | (AP['a_o'] > 2022) ].index\n",
    "AP=AP.drop(indexYear)\n",
    "# save lenght of sample period \n",
    "len_ap=len(AP)\n",
    "print('Number of observations:',len_ap)\n",
    "# define columns for defining duplicate information \n",
    "dup_cols=list(AP.columns[2:])\n",
    "\n",
    "# drop duplicates with respects to those columns \n",
    "AP_f=AP.drop_duplicates(subset=dup_cols,ignore_index=True)\n",
    "len_nodup=len(AP_f)\n",
    "print('relative observations lost',round(1-len(AP_f)/len_ap,4))\n",
    "print('absolute observations lost',round(len_ap-len(AP_f),4))"
   ]
  },
  {
   "cell_type": "code",
   "execution_count": 155,
   "metadata": {},
   "outputs": [
    {
     "name": "stdout",
     "output_type": "stream",
     "text": [
      "total relative observations lost 0.0026\n",
      "missing info relative observations lost 0.0\n"
     ]
    }
   ],
   "source": [
    "# drop observations that do not have any informations on year or municipality or point location\n",
    "indexMiss = AP_f[ (AP_f['a_o'] == 0) | (AP_f['c_digo_dane_de_municipio'] == 0) | (AP_f['latitud_longitud']==\"{'type': 'Point', 'coordinates': [-72, 4]}\") ].index\n",
    "AP_f=AP_f.drop(indexMiss)\n",
    "print('total relative observations lost',round(1-len(AP_f)/len(AP),4))\n",
    "print('missing info relative observations lost',round(((len_nodup-len(AP_f))/len(AP)),4))"
   ]
  },
  {
   "cell_type": "code",
   "execution_count": 156,
   "metadata": {},
   "outputs": [],
   "source": [
    "# map variables \n",
    "AP_f['map']=[map_AB_AP(modality='',iniciative='',g1=g1,g2=g2,g3=g3, ap_flag=True) for g1,g2,g3 in zip(\n",
    "                                                                                               AP_f['grupo_armado_1'],\n",
    "                                                                                               AP_f['grupo_armado_2'],\n",
    "                                                                                               AP_f['grupo_armado_3'])]\n",
    "# create flags \n",
    "for flag in ['guerrattack','parattack']:\n",
    "    AP_f[f'{flag}']=[1 if label==flag else 0 for label in AP_f['map']]"
   ]
  },
  {
   "cell_type": "code",
   "execution_count": 157,
   "metadata": {},
   "outputs": [
    {
     "data": {
      "text/html": [
       "<div>\n",
       "<style scoped>\n",
       "    .dataframe tbody tr th:only-of-type {\n",
       "        vertical-align: middle;\n",
       "    }\n",
       "\n",
       "    .dataframe tbody tr th {\n",
       "        vertical-align: top;\n",
       "    }\n",
       "\n",
       "    .dataframe thead th {\n",
       "        text-align: right;\n",
       "    }\n",
       "</style>\n",
       "<table border=\"1\" class=\"dataframe\">\n",
       "  <thead>\n",
       "    <tr style=\"text-align: right;\">\n",
       "      <th></th>\n",
       "      <th>Unnamed: 0</th>\n",
       "      <th>id_caso</th>\n",
       "      <th>id_caso_relacionado</th>\n",
       "      <th>a_o</th>\n",
       "      <th>mes</th>\n",
       "      <th>d_a</th>\n",
       "      <th>c_digo_dane_de_municipio</th>\n",
       "      <th>municipio</th>\n",
       "      <th>departamento</th>\n",
       "      <th>regi_n</th>\n",
       "      <th>grupo_armado_1</th>\n",
       "      <th>descripci_n_grupo_armado</th>\n",
       "      <th>grupo_armado_2</th>\n",
       "      <th>descripci_n_grupo_armado_1</th>\n",
       "      <th>abandono_o_despojo_forzado</th>\n",
       "      <th>amenaza_o_intimidaci_n</th>\n",
       "      <th>ataque_contra_misi_n_m_dica</th>\n",
       "      <th>confinamiento_o_restricci</th>\n",
       "      <th>desplazamiento_forzado</th>\n",
       "      <th>extorsi_n</th>\n",
       "      <th>lesionados_civiles</th>\n",
       "      <th>pillaje</th>\n",
       "      <th>tortura</th>\n",
       "      <th>capturados</th>\n",
       "      <th>escudo_humano</th>\n",
       "      <th>lesionados_combatientes</th>\n",
       "      <th>militares</th>\n",
       "      <th>polic_as</th>\n",
       "      <th>otras_fuerzas_armadas</th>\n",
       "      <th>agentes_del_estado_sin</th>\n",
       "      <th>total_agentes_del_estado</th>\n",
       "      <th>guerrilleros</th>\n",
       "      <th>paramilitares</th>\n",
       "      <th>grupos_posdesmovilizaci_n</th>\n",
       "      <th>combatientes_sin_informaci</th>\n",
       "      <th>otros_grupos_armados</th>\n",
       "      <th>total_combatientes_de_grupos</th>\n",
       "      <th>total_combatientes</th>\n",
       "      <th>personas_sin_informaci_n</th>\n",
       "      <th>total_civiles</th>\n",
       "      <th>ventaja_militar</th>\n",
       "      <th>total_de_v_ctimas_del_caso</th>\n",
       "      <th>latitud_longitud</th>\n",
       "      <th>grupo_armado_3</th>\n",
       "      <th>descripci_n_grupo_armado_2</th>\n",
       "      <th>otro_hecho_simult_neo</th>\n",
       "      <th>grupo_al_que_pertenecen_los</th>\n",
       "      <th>map</th>\n",
       "      <th>guerrattack</th>\n",
       "      <th>parattack</th>\n",
       "    </tr>\n",
       "  </thead>\n",
       "  <tbody>\n",
       "  </tbody>\n",
       "</table>\n",
       "</div>"
      ],
      "text/plain": [
       "Empty DataFrame\n",
       "Columns: [Unnamed: 0, id_caso, id_caso_relacionado, a_o, mes, d_a, c_digo_dane_de_municipio, municipio, departamento, regi_n, grupo_armado_1, descripci_n_grupo_armado, grupo_armado_2, descripci_n_grupo_armado_1, abandono_o_despojo_forzado, amenaza_o_intimidaci_n, ataque_contra_misi_n_m_dica, confinamiento_o_restricci, desplazamiento_forzado, extorsi_n, lesionados_civiles, pillaje, tortura, capturados, escudo_humano, lesionados_combatientes, militares, polic_as, otras_fuerzas_armadas, agentes_del_estado_sin, total_agentes_del_estado, guerrilleros, paramilitares, grupos_posdesmovilizaci_n, combatientes_sin_informaci, otros_grupos_armados, total_combatientes_de_grupos, total_combatientes, personas_sin_informaci_n, total_civiles, ventaja_militar, total_de_v_ctimas_del_caso, latitud_longitud, grupo_armado_3, descripci_n_grupo_armado_2, otro_hecho_simult_neo, grupo_al_que_pertenecen_los, map, guerrattack, parattack]\n",
       "Index: []"
      ]
     },
     "execution_count": 157,
     "metadata": {},
     "output_type": "execute_result"
    }
   ],
   "source": [
    "# check duplicates \n",
    "AP_f[AP_f.duplicated(subset=['id_caso_relacionado', 'a_o', 'mes', 'd_a', 'latitud_longitud',\n",
    "       'c_digo_dane_de_municipio', 'municipio', 'departamento', 'regi_n',\n",
    "        'grupo_armado_1',\n",
    "       'descripci_n_grupo_armado', 'grupo_armado_2',\n",
    "       'descripci_n_grupo_armado_1','grupo_armado_3',\n",
    "       'descripci_n_grupo_armado_2'])]\n",
    "# none "
   ]
  },
  {
   "cell_type": "code",
   "execution_count": 158,
   "metadata": {},
   "outputs": [],
   "source": [
    "AP_g=AP_f.groupby(by=['id_caso_relacionado', 'a_o', 'mes', 'd_a', 'latitud_longitud',\n",
    "       'c_digo_dane_de_municipio', 'municipio', 'departamento', 'regi_n',\n",
    "        'grupo_armado_1',\n",
    "       'descripci_n_grupo_armado', 'grupo_armado_2',\n",
    "       'descripci_n_grupo_armado_1','grupo_armado_3',\n",
    "       'descripci_n_grupo_armado_2'], dropna=False).sum(numeric_only=True)[['total_de_v_ctimas_del_caso',\n",
    "       'guerrattack', 'parattack']].reset_index()"
   ]
  },
  {
   "cell_type": "markdown",
   "metadata": {},
   "source": [
    "Format so it fits MELTT\n"
   ]
  },
  {
   "cell_type": "code",
   "execution_count": 159,
   "metadata": {},
   "outputs": [],
   "source": [
    "# add other flag variables \n",
    "AP_g['clash']=0\n",
    "AP_g['govattack']=0\n",
    "AP_g['posdattack']=0\n",
    "# map coordinates to latitude and longitude \n",
    "# create a column with the dictionary as objects \n",
    "AP_g['latitud_longitud_dict']=[eval(_dict) for _dict in AP_g['latitud_longitud']]\n",
    "AP_g['latitud']=[_dict['coordinates'][1] for _dict in AP_g['latitud_longitud_dict']]\n",
    "AP_g['longitud']=[_dict['coordinates'][0] for _dict in AP_g['latitud_longitud_dict']]\n",
    "\n",
    "# create a date variAPle\n",
    "AP_g['date']=['-'.join([str(year),str(month),str(day)]) for year,month,day in zip(AP_g['a_o'],AP_g['mes'],AP_g['d_a'])]\n",
    "\n",
    "# create a variAPle for the event \n",
    "AP_g['event']=AP_g.index\n",
    "\n",
    "# dataset variAPle\n",
    "AP_g['dataset']='AP'\n",
    "\n",
    "#rename variables into taxonomies \n",
    "AP_g.rename(columns=rename_dict, inplace=True)"
   ]
  },
  {
   "cell_type": "code",
   "execution_count": 160,
   "metadata": {},
   "outputs": [],
   "source": [
    "# save table\n",
    "AP_g.to_csv('MELTT\\APforMELTT_allcols.csv')"
   ]
  },
  {
   "cell_type": "code",
   "execution_count": 161,
   "metadata": {},
   "outputs": [
    {
     "name": "stdout",
     "output_type": "stream",
     "text": [
      "observations lost 1\n"
     ]
    }
   ],
   "source": [
    "# drop observations that do not have any informations on month or day for MELTT\n",
    "indexMiss = AP_g[ (AP_g['mes'] == 0) | (AP_g['d_a']==0) ].index\n",
    "len_before=len(AP_g)\n",
    "AP_g=AP_g.drop(indexMiss)\n",
    "print('observations lost',len_before-len(AP_g))"
   ]
  },
  {
   "cell_type": "code",
   "execution_count": 162,
   "metadata": {},
   "outputs": [],
   "source": [
    "# form as example in meltt\n",
    "AP_g['enddate']=AP_g['date']\n",
    "AP_meltt=AP_g[['dataset','event','date','enddate','latitude','longitude','relcase_tax',\n",
    "              'g1_tax', 'dg1_tax', 'g2_tax', 'dg2_tax', 'g3_tax', 'dg3_tax',\n",
    "            'victims_tax', 'clash_tax', 'govattack_tax', 'guerrattack_tax','parattack_tax', 'posdattack_tax','c_digo_dane_de_municipio','year']]"
   ]
  },
  {
   "cell_type": "code",
   "execution_count": 163,
   "metadata": {},
   "outputs": [
    {
     "name": "stdout",
     "output_type": "stream",
     "text": [
      "Check for date missings: 0\n"
     ]
    }
   ],
   "source": [
    "print('Check for date missings:', AP_meltt['date'].isna().sum())\n",
    "AP_meltt.to_csv('MELTT\\APforMELTT.csv')"
   ]
  },
  {
   "cell_type": "markdown",
   "metadata": {},
   "source": [
    "## Terrorist Attacks (AT)\n",
    "It is understood as any attack perpetrated through the use of explosives, which occur in densely populated areas and in which there is plural affectation of persons or civilian property, regardless of whether the target of the action is civilian or military.\n",
    "`Translated with DeepL.com (free version)`"
   ]
  },
  {
   "cell_type": "code",
   "execution_count": 164,
   "metadata": {},
   "outputs": [
    {
     "name": "stdout",
     "output_type": "stream",
     "text": [
      "Number of observations: 219\n",
      "relative observations lost 0.0\n",
      "absolute observations lost 0\n"
     ]
    }
   ],
   "source": [
    "# get only observations from sample period\n",
    "indexYear = AT[ (AT['a_o'] < 1988) | (AT['a_o'] > 2022) ].index\n",
    "AT=AT.drop(indexYear)\n",
    "# save lenght of sample period \n",
    "len_at=len(AT)\n",
    "print('Number of observations:',len_at)\n",
    "# define columns for defining duplicate information \n",
    "dup_cols=list(AT.columns[2:])\n",
    "\n",
    "# drop duplicates with respects to those columns \n",
    "AT_f=AT.drop_duplicates(subset=dup_cols,ignore_index=True)\n",
    "len_nodup=len(AT_f)\n",
    "print('relative observations lost',round(1-len(AT_f)/len_at,4))\n",
    "print('absolute observations lost',round(len_at-len(AT_f),4))"
   ]
  },
  {
   "cell_type": "code",
   "execution_count": 165,
   "metadata": {},
   "outputs": [
    {
     "name": "stdout",
     "output_type": "stream",
     "text": [
      "total relative observations lost 0.0\n",
      "missing info relative observations lost 0.0\n"
     ]
    }
   ],
   "source": [
    "# drop observations that do not have any informations on year or municipality\n",
    "indexMiss = AT_f[ (AT_f['a_o'] == 0) | (AT_f['c_digo_dane_de_municipio'] == 0)  | (AT_f['latitud_longitud']==\"{'type': 'Point', 'coordinates': [-72, 4]}\") ].index\n",
    "AT_f=AT_f.drop(indexMiss)\n",
    "print('total relative observations lost',round(1-len(AT_f)/len(AT),4))\n",
    "print('missing info relative observations lost',round(((len_nodup-len(AT_f))/len(AT)),4))"
   ]
  },
  {
   "cell_type": "code",
   "execution_count": 166,
   "metadata": {},
   "outputs": [],
   "source": [
    "# map\n",
    "AT_f=map_resposable('attack',AT_f)\n",
    "#create flags\n",
    "for flag in ['parattack','guerrattack','posdattack']: \n",
    "    AT_f[f'{flag}']=[1 if f else 0 for f  in AT_f[f'{flag}']]"
   ]
  },
  {
   "cell_type": "code",
   "execution_count": 167,
   "metadata": {},
   "outputs": [],
   "source": [
    "AT_g=AT_f.groupby(by=['id_caso_relacionado', 'a_o', 'mes', 'd_a', 'latitud_longitud',\n",
    "       'c_digo_dane_de_municipio', 'municipio', 'departamento', 'regi_n',\n",
    "        'presunto_responsable',\n",
    "       'descripci_n_presunto'], dropna=False).sum(numeric_only=True)[['total_de_v_ctimas_del_caso',\n",
    "       'guerrattack', 'parattack','posdattack']].reset_index()"
   ]
  },
  {
   "cell_type": "code",
   "execution_count": 168,
   "metadata": {},
   "outputs": [
    {
     "name": "stdout",
     "output_type": "stream",
     "text": [
      "parattack {0, 1}\n",
      "guerrattack {0, 1}\n",
      "posdattack {0, 1}\n"
     ]
    }
   ],
   "source": [
    "# check if flag repeated \n",
    "for flag in ['parattack','guerrattack','posdattack']:\n",
    "    print(flag,set(AT_g[f'{flag}']))"
   ]
  },
  {
   "cell_type": "markdown",
   "metadata": {},
   "source": [
    "Format so it is compatible with MELTT"
   ]
  },
  {
   "cell_type": "code",
   "execution_count": 169,
   "metadata": {},
   "outputs": [],
   "source": [
    "# add other flag variables \n",
    "AT_g['clash']=0\n",
    "AT_g['govattack']=0\n",
    "AT_g['g2_tax']=None\n",
    "AT_g['dg2_tax']=None\n",
    "AT_g['g3_tax']=None\n",
    "AT_g['dg3_tax']=None\n",
    "# map coordinates to latitude and longitude \n",
    "# create a column with the dictionary as objects \n",
    "AT_g['latitud_longitud_dict']=[eval(_dict) for _dict in AT_g['latitud_longitud']]\n",
    "AT_g['latitud']=[_dict['coordinates'][1] for _dict in AT_g['latitud_longitud_dict']]\n",
    "AT_g['longitud']=[_dict['coordinates'][0] for _dict in AT_g['latitud_longitud_dict']]\n",
    "\n",
    "# create a date variAPle\n",
    "AT_g['date']=['-'.join([str(year),str(month),str(day)]) for year,month,day in zip(AT_g['a_o'],AT_g['mes'],AT_g['d_a'])]\n",
    "\n",
    "# create a variAPle for the event \n",
    "AT_g['event']=AT_g.index\n",
    "\n",
    "# dataset variAPle\n",
    "AT_g['dataset']='AT'\n",
    "\n",
    "#rename variables into taxonomies \n",
    "AT_g.rename(columns=rename_dict, inplace=True)"
   ]
  },
  {
   "cell_type": "code",
   "execution_count": 170,
   "metadata": {},
   "outputs": [
    {
     "data": {
      "text/html": [
       "<div>\n",
       "<style scoped>\n",
       "    .dataframe tbody tr th:only-of-type {\n",
       "        vertical-align: middle;\n",
       "    }\n",
       "\n",
       "    .dataframe tbody tr th {\n",
       "        vertical-align: top;\n",
       "    }\n",
       "\n",
       "    .dataframe thead th {\n",
       "        text-align: right;\n",
       "    }\n",
       "</style>\n",
       "<table border=\"1\" class=\"dataframe\">\n",
       "  <thead>\n",
       "    <tr style=\"text-align: right;\">\n",
       "      <th></th>\n",
       "      <th>relcase_tax</th>\n",
       "      <th>year</th>\n",
       "      <th>mes</th>\n",
       "      <th>d_a</th>\n",
       "      <th>latitud_longitud</th>\n",
       "      <th>c_digo_dane_de_municipio</th>\n",
       "      <th>municipio</th>\n",
       "      <th>departamento</th>\n",
       "      <th>regi_n</th>\n",
       "      <th>g1_tax</th>\n",
       "      <th>dg1_tax</th>\n",
       "      <th>victims_tax</th>\n",
       "      <th>guerrattack_tax</th>\n",
       "      <th>parattack_tax</th>\n",
       "      <th>posdattack_tax</th>\n",
       "      <th>clash_tax</th>\n",
       "      <th>govattack_tax</th>\n",
       "      <th>g2_tax</th>\n",
       "      <th>dg2_tax</th>\n",
       "      <th>g3_tax</th>\n",
       "      <th>dg3_tax</th>\n",
       "      <th>latitud_longitud_dict</th>\n",
       "      <th>latitude</th>\n",
       "      <th>longitude</th>\n",
       "      <th>date</th>\n",
       "      <th>event</th>\n",
       "      <th>dataset</th>\n",
       "    </tr>\n",
       "  </thead>\n",
       "  <tbody>\n",
       "    <tr>\n",
       "      <th>0</th>\n",
       "      <td>CR000025</td>\n",
       "      <td>2009</td>\n",
       "      <td>5</td>\n",
       "      <td>9</td>\n",
       "      <td>{'type': 'Point', 'coordinates': [-77.59445713...</td>\n",
       "      <td>52678</td>\n",
       "      <td>SAMANIEGO</td>\n",
       "      <td>NARIÑO</td>\n",
       "      <td>OCCIDENTE DE NARIÑO</td>\n",
       "      <td>GUERRILLA</td>\n",
       "      <td>ELN</td>\n",
       "      <td>0.0</td>\n",
       "      <td>1</td>\n",
       "      <td>0</td>\n",
       "      <td>0</td>\n",
       "      <td>0</td>\n",
       "      <td>0</td>\n",
       "      <td>None</td>\n",
       "      <td>None</td>\n",
       "      <td>None</td>\n",
       "      <td>None</td>\n",
       "      <td>{'type': 'Point', 'coordinates': [-77.59445713...</td>\n",
       "      <td>1.335352</td>\n",
       "      <td>-77.594457</td>\n",
       "      <td>2009-5-9</td>\n",
       "      <td>0</td>\n",
       "      <td>AT</td>\n",
       "    </tr>\n",
       "    <tr>\n",
       "      <th>1</th>\n",
       "      <td>CR002067</td>\n",
       "      <td>2011</td>\n",
       "      <td>7</td>\n",
       "      <td>9</td>\n",
       "      <td>{'type': 'Point', 'coordinates': [-76.27112721...</td>\n",
       "      <td>19821</td>\n",
       "      <td>TORIBIO</td>\n",
       "      <td>CAUCA</td>\n",
       "      <td>NORTE DEL CAUCA</td>\n",
       "      <td>GUERRILLA</td>\n",
       "      <td>FARC</td>\n",
       "      <td>4.0</td>\n",
       "      <td>1</td>\n",
       "      <td>0</td>\n",
       "      <td>0</td>\n",
       "      <td>0</td>\n",
       "      <td>0</td>\n",
       "      <td>None</td>\n",
       "      <td>None</td>\n",
       "      <td>None</td>\n",
       "      <td>None</td>\n",
       "      <td>{'type': 'Point', 'coordinates': [-76.27112721...</td>\n",
       "      <td>2.951450</td>\n",
       "      <td>-76.271127</td>\n",
       "      <td>2011-7-9</td>\n",
       "      <td>1</td>\n",
       "      <td>AT</td>\n",
       "    </tr>\n",
       "  </tbody>\n",
       "</table>\n",
       "</div>"
      ],
      "text/plain": [
       "  relcase_tax  year  mes  d_a  \\\n",
       "0    CR000025  2009    5    9   \n",
       "1    CR002067  2011    7    9   \n",
       "\n",
       "                                    latitud_longitud  \\\n",
       "0  {'type': 'Point', 'coordinates': [-77.59445713...   \n",
       "1  {'type': 'Point', 'coordinates': [-76.27112721...   \n",
       "\n",
       "   c_digo_dane_de_municipio  municipio departamento               regi_n  \\\n",
       "0                     52678  SAMANIEGO       NARIÑO  OCCIDENTE DE NARIÑO   \n",
       "1                     19821    TORIBIO        CAUCA      NORTE DEL CAUCA   \n",
       "\n",
       "      g1_tax dg1_tax  victims_tax  guerrattack_tax  parattack_tax  \\\n",
       "0  GUERRILLA     ELN          0.0                1              0   \n",
       "1  GUERRILLA    FARC          4.0                1              0   \n",
       "\n",
       "   posdattack_tax  clash_tax  govattack_tax g2_tax dg2_tax g3_tax dg3_tax  \\\n",
       "0               0          0              0   None    None   None    None   \n",
       "1               0          0              0   None    None   None    None   \n",
       "\n",
       "                               latitud_longitud_dict  latitude  longitude  \\\n",
       "0  {'type': 'Point', 'coordinates': [-77.59445713...  1.335352 -77.594457   \n",
       "1  {'type': 'Point', 'coordinates': [-76.27112721...  2.951450 -76.271127   \n",
       "\n",
       "       date  event dataset  \n",
       "0  2009-5-9      0      AT  \n",
       "1  2011-7-9      1      AT  "
      ]
     },
     "execution_count": 170,
     "metadata": {},
     "output_type": "execute_result"
    }
   ],
   "source": [
    "AT_g.head(2)"
   ]
  },
  {
   "cell_type": "code",
   "execution_count": 171,
   "metadata": {},
   "outputs": [],
   "source": [
    "# save data\n",
    "AT_g.to_csv('MELTT\\ATforMELTT_allcols.csv')"
   ]
  },
  {
   "cell_type": "code",
   "execution_count": 172,
   "metadata": {},
   "outputs": [],
   "source": [
    "# form as example in meltt\n",
    "AT_g['enddate']=AT_g['date']\n",
    "AT_meltt=AT_g[['dataset','event','date','enddate','latitude','longitude','relcase_tax',\n",
    "              'g1_tax', 'dg1_tax', 'g2_tax', 'dg2_tax', 'g3_tax', 'dg3_tax',\n",
    "            'victims_tax', 'clash_tax', 'govattack_tax', 'guerrattack_tax','parattack_tax', 'posdattack_tax','c_digo_dane_de_municipio','year']]"
   ]
  },
  {
   "cell_type": "code",
   "execution_count": 173,
   "metadata": {},
   "outputs": [
    {
     "name": "stdout",
     "output_type": "stream",
     "text": [
      "Check for date missings: 0\n"
     ]
    }
   ],
   "source": [
    "print('Check for date missings:', AT_meltt['date'].isna().sum())\n",
    "AT_meltt.to_csv('MELTT\\ATforMELTT.csv')"
   ]
  },
  {
   "cell_type": "markdown",
   "metadata": {},
   "source": [
    "## Aggregate combined data\n",
    "\n",
    "### TO DO: \n",
    "- Think how to include manually check if observation with no information on the day etc are duplicated. \n",
    "- should be included right?\n",
    " "
   ]
  },
  {
   "cell_type": "code",
   "execution_count": 3,
   "metadata": {},
   "outputs": [],
   "source": [
    "# read data \n",
    "post_meltt=pd.read_csv('MELTT\\matchedevents.csv')"
   ]
  },
  {
   "cell_type": "code",
   "execution_count": 4,
   "metadata": {},
   "outputs": [],
   "source": [
    "# aggregate by municipality and year\n",
    "siev_ca=post_meltt[[\"victims_tax\",\"clash_tax\", \"govattack_tax\",\"guerrattack_tax\",\n",
    "                    \"parattack_tax\",\"posdattack_tax\",'c_digo_dane_de_municipio',\n",
    "                    'year']].groupby(['c_digo_dane_de_municipio','year']).sum().reset_index()\n",
    "# rename columns\n",
    "rename_dict={'c_digo_dane_de_municipio':'muncode','victims_tax': 'causalities', 'clash_tax': 'clashes',\n",
    "             'govattack_tax':'govattacks','guerrattack_tax':'guerrattacks','parattack_tax':'parattacks',\n",
    "             'posdattack_tax':'posdattacks'}\n",
    "siev_ca=siev_ca.rename(columns=rename_dict)"
   ]
  },
  {
   "cell_type": "code",
   "execution_count": 5,
   "metadata": {},
   "outputs": [
    {
     "data": {
      "text/html": [
       "<div>\n",
       "<style scoped>\n",
       "    .dataframe tbody tr th:only-of-type {\n",
       "        vertical-align: middle;\n",
       "    }\n",
       "\n",
       "    .dataframe tbody tr th {\n",
       "        vertical-align: top;\n",
       "    }\n",
       "\n",
       "    .dataframe thead th {\n",
       "        text-align: right;\n",
       "    }\n",
       "</style>\n",
       "<table border=\"1\" class=\"dataframe\">\n",
       "  <thead>\n",
       "    <tr style=\"text-align: right;\">\n",
       "      <th></th>\n",
       "      <th>muncode</th>\n",
       "      <th>year</th>\n",
       "      <th>causalities</th>\n",
       "      <th>clashes</th>\n",
       "      <th>govattacks</th>\n",
       "      <th>guerrattacks</th>\n",
       "      <th>parattacks</th>\n",
       "      <th>posdattacks</th>\n",
       "    </tr>\n",
       "  </thead>\n",
       "  <tbody>\n",
       "    <tr>\n",
       "      <th>0</th>\n",
       "      <td>5000</td>\n",
       "      <td>1991</td>\n",
       "      <td>1</td>\n",
       "      <td>1</td>\n",
       "      <td>0</td>\n",
       "      <td>0</td>\n",
       "      <td>0</td>\n",
       "      <td>0</td>\n",
       "    </tr>\n",
       "    <tr>\n",
       "      <th>1</th>\n",
       "      <td>5000</td>\n",
       "      <td>1992</td>\n",
       "      <td>7</td>\n",
       "      <td>0</td>\n",
       "      <td>0</td>\n",
       "      <td>1</td>\n",
       "      <td>0</td>\n",
       "      <td>0</td>\n",
       "    </tr>\n",
       "    <tr>\n",
       "      <th>2</th>\n",
       "      <td>5000</td>\n",
       "      <td>1993</td>\n",
       "      <td>1</td>\n",
       "      <td>1</td>\n",
       "      <td>0</td>\n",
       "      <td>1</td>\n",
       "      <td>0</td>\n",
       "      <td>0</td>\n",
       "    </tr>\n",
       "  </tbody>\n",
       "</table>\n",
       "</div>"
      ],
      "text/plain": [
       "   muncode  year  causalities  clashes  govattacks  guerrattacks  parattacks  \\\n",
       "0     5000  1991            1        1           0             0           0   \n",
       "1     5000  1992            7        0           0             1           0   \n",
       "2     5000  1993            1        1           0             1           0   \n",
       "\n",
       "   posdattacks  \n",
       "0            0  \n",
       "1            0  \n",
       "2            0  "
      ]
     },
     "execution_count": 5,
     "metadata": {},
     "output_type": "execute_result"
    }
   ],
   "source": [
    "siev_ca.head(3)"
   ]
  },
  {
   "cell_type": "markdown",
   "metadata": {},
   "source": [
    "# Massacres\n",
    "It is understood as the intentional homicide of four (4) or more persons in a state of defenselessness and under the same circumstances of \n",
    "time and place, and which is distinguished by the public exposure of violence and the asymmetrical relationship between the armed actor and the civilian population, without interaction between armed actors (GMH, 2013). \n",
    "and the civilian population, without interaction between armed actors (GMH, 2013).\n",
    "`Translated with DeepL.com (free version)`"
   ]
  },
  {
   "cell_type": "code",
   "execution_count": 6,
   "metadata": {},
   "outputs": [
    {
     "name": "stdout",
     "output_type": "stream",
     "text": [
      "Number of observations: 3710\n",
      "relative observations lost 0.0022\n",
      "absolute observations lost 8\n"
     ]
    }
   ],
   "source": [
    "# get only observations from sample period\n",
    "indexYear = MA[ (MA['a_o'] < 1988) | (MA['a_o'] > 2022) ].index\n",
    "MA=MA.drop(indexYear)\n",
    "# save lenght of sample period \n",
    "len_ma=len(MA)\n",
    "print('Number of observations:',len_ma)\n",
    "# define columns for defining duplicate information \n",
    "dup_cols=list(MA.columns[2:])\n",
    "\n",
    "# drop duplicates with respects to those columns \n",
    "MA_f=MA.drop_duplicates(subset=dup_cols,ignore_index=True)\n",
    "len_nodup=len(MA_f)\n",
    "print('relative observations lost',round(1-len(MA_f)/len_ma,4))\n",
    "print('absolute observations lost',round(len_ma-len(MA_f),4))"
   ]
  },
  {
   "cell_type": "code",
   "execution_count": 8,
   "metadata": {},
   "outputs": [
    {
     "name": "stdout",
     "output_type": "stream",
     "text": [
      "total relative observations lost 0.0027\n",
      "missing info relative observations lost 0.0005\n",
      "absolute observations lost 2\n"
     ]
    }
   ],
   "source": [
    "# drop observations that do not have any informations on year or municipality\n",
    "indexMiss = MA_f[ (MA_f['a_o'] == 0) | (MA_f['c_digo_dane_de_municipio'] == 0)  | (MA_f['latitud_longitud']==\"{'type': 'Point', 'coordinates': [-72, 4]}\") ].index\n",
    "MA_f=MA_f.drop(indexMiss)\n",
    "print('total relative observations lost',round(1-len(MA_f)/len(MA),4))\n",
    "print('missing info relative observations lost',round(((len_nodup-len(MA_f))/len(MA)),4))\n",
    "print('absolute observations lost',round(len_nodup-len(MA_f),4))"
   ]
  },
  {
   "cell_type": "code",
   "execution_count": 9,
   "metadata": {},
   "outputs": [],
   "source": [
    "# map\n",
    "MA_f=map_resposable('mass',MA_f)\n",
    "#create flags \n",
    "for flag in ['parmass','guerrmass','posdmass']: \n",
    "    MA_f[f'{flag}']=[1 if f else 0 for f  in MA_f[f'{flag}']]"
   ]
  },
  {
   "cell_type": "code",
   "execution_count": 10,
   "metadata": {},
   "outputs": [],
   "source": [
    "# group by merging variables, that should identify one case \n",
    "MA_g=MA_f.groupby(['id_caso_relacionado', 'a_o', 'mes', 'd_a',\n",
    "       'c_digo_dane_de_municipio','latitud_longitud'],dropna=False).sum(numeric_only=True)[['total_de_v_ctimas_del_caso','parmass','guerrmass','posdmass']].reset_index()"
   ]
  },
  {
   "cell_type": "code",
   "execution_count": 11,
   "metadata": {},
   "outputs": [
    {
     "name": "stdout",
     "output_type": "stream",
     "text": [
      "parmass {0, 1}\n",
      "guerrmass {0, 1}\n",
      "posdmass {0, 1}\n"
     ]
    }
   ],
   "source": [
    "# check if flag repeated \n",
    "for flag in ['parmass','guerrmass','posdmass']:\n",
    "    print(flag,set(MA_f[f'{flag}']))"
   ]
  },
  {
   "cell_type": "code",
   "execution_count": 12,
   "metadata": {},
   "outputs": [
    {
     "data": {
      "text/html": [
       "<div>\n",
       "<style scoped>\n",
       "    .dataframe tbody tr th:only-of-type {\n",
       "        vertical-align: middle;\n",
       "    }\n",
       "\n",
       "    .dataframe tbody tr th {\n",
       "        vertical-align: top;\n",
       "    }\n",
       "\n",
       "    .dataframe thead th {\n",
       "        text-align: right;\n",
       "    }\n",
       "</style>\n",
       "<table border=\"1\" class=\"dataframe\">\n",
       "  <thead>\n",
       "    <tr style=\"text-align: right;\">\n",
       "      <th></th>\n",
       "      <th>id_caso_relacionado</th>\n",
       "      <th>a_o</th>\n",
       "      <th>mes</th>\n",
       "      <th>d_a</th>\n",
       "      <th>c_digo_dane_de_municipio</th>\n",
       "      <th>latitud_longitud</th>\n",
       "      <th>total_de_v_ctimas_del_caso</th>\n",
       "      <th>parmass</th>\n",
       "      <th>guerrmass</th>\n",
       "      <th>posdmass</th>\n",
       "    </tr>\n",
       "  </thead>\n",
       "  <tbody>\n",
       "    <tr>\n",
       "      <th>0</th>\n",
       "      <td>CR000001</td>\n",
       "      <td>1997</td>\n",
       "      <td>2</td>\n",
       "      <td>27</td>\n",
       "      <td>70508</td>\n",
       "      <td>{'type': 'Point', 'coordinates': [-75.22908444...</td>\n",
       "      <td>6</td>\n",
       "      <td>1</td>\n",
       "      <td>0</td>\n",
       "      <td>0</td>\n",
       "    </tr>\n",
       "    <tr>\n",
       "      <th>1</th>\n",
       "      <td>CR000002</td>\n",
       "      <td>1997</td>\n",
       "      <td>10</td>\n",
       "      <td>25</td>\n",
       "      <td>5361</td>\n",
       "      <td>{'type': 'Point', 'coordinates': [-75.51925813...</td>\n",
       "      <td>17</td>\n",
       "      <td>1</td>\n",
       "      <td>0</td>\n",
       "      <td>0</td>\n",
       "    </tr>\n",
       "    <tr>\n",
       "      <th>2</th>\n",
       "      <td>CR000104</td>\n",
       "      <td>1995</td>\n",
       "      <td>9</td>\n",
       "      <td>20</td>\n",
       "      <td>5045</td>\n",
       "      <td>{'type': 'Point', 'coordinates': [-76.62596065...</td>\n",
       "      <td>25</td>\n",
       "      <td>0</td>\n",
       "      <td>1</td>\n",
       "      <td>0</td>\n",
       "    </tr>\n",
       "    <tr>\n",
       "      <th>3</th>\n",
       "      <td>CR000130</td>\n",
       "      <td>1998</td>\n",
       "      <td>7</td>\n",
       "      <td>4</td>\n",
       "      <td>20060</td>\n",
       "      <td>{'type': 'Point', 'coordinates': [-73.88876766...</td>\n",
       "      <td>4</td>\n",
       "      <td>0</td>\n",
       "      <td>1</td>\n",
       "      <td>0</td>\n",
       "    </tr>\n",
       "  </tbody>\n",
       "</table>\n",
       "</div>"
      ],
      "text/plain": [
       "  id_caso_relacionado   a_o  mes  d_a  c_digo_dane_de_municipio  \\\n",
       "0            CR000001  1997    2   27                     70508   \n",
       "1            CR000002  1997   10   25                      5361   \n",
       "2            CR000104  1995    9   20                      5045   \n",
       "3            CR000130  1998    7    4                     20060   \n",
       "\n",
       "                                    latitud_longitud  \\\n",
       "0  {'type': 'Point', 'coordinates': [-75.22908444...   \n",
       "1  {'type': 'Point', 'coordinates': [-75.51925813...   \n",
       "2  {'type': 'Point', 'coordinates': [-76.62596065...   \n",
       "3  {'type': 'Point', 'coordinates': [-73.88876766...   \n",
       "\n",
       "   total_de_v_ctimas_del_caso  parmass  guerrmass  posdmass  \n",
       "0                           6        1          0         0  \n",
       "1                          17        1          0         0  \n",
       "2                          25        0          1         0  \n",
       "3                           4        0          1         0  "
      ]
     },
     "execution_count": 12,
     "metadata": {},
     "output_type": "execute_result"
    }
   ],
   "source": [
    "MA_g.head(4)"
   ]
  },
  {
   "cell_type": "code",
   "execution_count": 13,
   "metadata": {},
   "outputs": [],
   "source": [
    "# aggregate by municipality and year\n",
    "mass_agg=MA_g[[\"total_de_v_ctimas_del_caso\",\"parmass\", \"guerrmass\",\"posdmass\",\n",
    "                \"a_o\",'c_digo_dane_de_municipio']].groupby(['c_digo_dane_de_municipio','a_o']).sum().reset_index()\n",
    "# rename columns\n",
    "rename_dict={'c_digo_dane_de_municipio':'muncode',\"total_de_v_ctimas_del_caso\": 'causalities', 'a_o': 'year'}\n",
    "mass_agg=mass_agg.rename(columns=rename_dict)\n"
   ]
  },
  {
   "cell_type": "code",
   "execution_count": 14,
   "metadata": {},
   "outputs": [
    {
     "data": {
      "text/html": [
       "<div>\n",
       "<style scoped>\n",
       "    .dataframe tbody tr th:only-of-type {\n",
       "        vertical-align: middle;\n",
       "    }\n",
       "\n",
       "    .dataframe tbody tr th {\n",
       "        vertical-align: top;\n",
       "    }\n",
       "\n",
       "    .dataframe thead th {\n",
       "        text-align: right;\n",
       "    }\n",
       "</style>\n",
       "<table border=\"1\" class=\"dataframe\">\n",
       "  <thead>\n",
       "    <tr style=\"text-align: right;\">\n",
       "      <th></th>\n",
       "      <th>muncode</th>\n",
       "      <th>year</th>\n",
       "      <th>causalities</th>\n",
       "      <th>parmass</th>\n",
       "      <th>guerrmass</th>\n",
       "      <th>posdmass</th>\n",
       "    </tr>\n",
       "  </thead>\n",
       "  <tbody>\n",
       "    <tr>\n",
       "      <th>0</th>\n",
       "      <td>5000</td>\n",
       "      <td>1996</td>\n",
       "      <td>5</td>\n",
       "      <td>1</td>\n",
       "      <td>0</td>\n",
       "      <td>0</td>\n",
       "    </tr>\n",
       "    <tr>\n",
       "      <th>1</th>\n",
       "      <td>5001</td>\n",
       "      <td>1988</td>\n",
       "      <td>4</td>\n",
       "      <td>0</td>\n",
       "      <td>0</td>\n",
       "      <td>0</td>\n",
       "    </tr>\n",
       "    <tr>\n",
       "      <th>2</th>\n",
       "      <td>5001</td>\n",
       "      <td>1990</td>\n",
       "      <td>99</td>\n",
       "      <td>2</td>\n",
       "      <td>3</td>\n",
       "      <td>0</td>\n",
       "    </tr>\n",
       "  </tbody>\n",
       "</table>\n",
       "</div>"
      ],
      "text/plain": [
       "   muncode  year  causalities  parmass  guerrmass  posdmass\n",
       "0     5000  1996            5        1          0         0\n",
       "1     5001  1988            4        0          0         0\n",
       "2     5001  1990           99        2          3         0"
      ]
     },
     "execution_count": 14,
     "metadata": {},
     "output_type": "execute_result"
    }
   ],
   "source": [
    "mass_agg.head(3)"
   ]
  },
  {
   "cell_type": "code",
   "execution_count": 15,
   "metadata": {},
   "outputs": [
    {
     "data": {
      "text/plain": [
       "2218"
      ]
     },
     "execution_count": 15,
     "metadata": {},
     "output_type": "execute_result"
    }
   ],
   "source": [
    "len(mass_agg)"
   ]
  },
  {
   "cell_type": "markdown",
   "metadata": {},
   "source": [
    "# Kidnappings\n",
    "It is the snatching, subtraction, retention or concealment of a person, against his or her will, by means of intimidation, violence or deception, by or with the participation of the actors of the armed conflict, \n",
    "violence or deception, by or with the participation of actors in the armed conflict. It can be simple, when it has no \n",
    "a manifest purpose, or extortive when it is carried out with the purpose of demanding for his or her freedom a profit or any other benefit, \n",
    "or so that something is done or omitted, or for publicity or political purposes (Congress of the Republic, 2000). \n",
    "`Translated with DeepL.com (free version)`\n"
   ]
  },
  {
   "cell_type": "code",
   "execution_count": 16,
   "metadata": {},
   "outputs": [
    {
     "name": "stdout",
     "output_type": "stream",
     "text": [
      "Number of observations: 28078\n",
      "relative observations lost 0.1441\n",
      "absolute observations lost 4046\n"
     ]
    }
   ],
   "source": [
    "# get only observations from sample period\n",
    "indexYear = SE[ (SE['a_o'] < 1988) | (SE['a_o'] > 2022) ].index\n",
    "SE=SE.drop(indexYear)\n",
    "# save lenght of sample period \n",
    "len_SE=len(SE)\n",
    "print('Number of observations:',len_SE)\n",
    "# define columns for defining duplicate inforSEtion \n",
    "dup_cols=list(SE.columns[2:])\n",
    "\n",
    "# drop duplicates with respects to those columns \n",
    "SE_f=SE.drop_duplicates(subset=dup_cols,ignore_index=True)\n",
    "len_nodup=len(SE_f)\n",
    "print('relative observations lost',round(1-len(SE_f)/len_SE,4))\n",
    "print('absolute observations lost',round(len_SE-len(SE_f),4))"
   ]
  },
  {
   "cell_type": "code",
   "execution_count": 18,
   "metadata": {},
   "outputs": [
    {
     "name": "stdout",
     "output_type": "stream",
     "text": [
      "total relative observations lost 0.1571\n",
      "missing info relative observations lost 0.013\n",
      "absolute observations lost 365\n"
     ]
    }
   ],
   "source": [
    "# drop observations that do not have any informations on year or municipality\n",
    "indexMiss = SE_f[ (SE_f['a_o'] == 0) | (SE_f['c_digo_dane_de_municipio'] == 0)  | (SE_f['latitud_longitud']==\"{'type': 'Point', 'coordinates': [-72, 4]}\") ].index\n",
    "SE_f=SE_f.drop(indexMiss)\n",
    "print('total relative observations lost',round(1-len(SE_f)/len(SE),4))\n",
    "print('missing info relative observations lost',round(((len_nodup-len(SE_f))/len(SE)),4))\n",
    "print('absolute observations lost',round(len_nodup-len(SE_f),4))"
   ]
  },
  {
   "cell_type": "code",
   "execution_count": 19,
   "metadata": {},
   "outputs": [],
   "source": [
    "# map\n",
    "SE_f=map_resposable('sec',SE_f)\n",
    "\n",
    "# create flags and variable with victims\n",
    "for flag in ['parsec','guerrsec','posdsec']: \n",
    "    SE_f[f'{flag}']=[1 if f else 0 for f  in SE_f[f'{flag}']]\n",
    "    SE_f[f'n_{flag}']=[victims if f else 0 for f,victims  in zip(SE_f[f'{flag}'],SE_f['total_de_v_ctimas_del_caso'])]\n"
   ]
  },
  {
   "cell_type": "code",
   "execution_count": 20,
   "metadata": {},
   "outputs": [
    {
     "name": "stdout",
     "output_type": "stream",
     "text": [
      "parsec {0, 1}\n",
      "guerrsec {0, 1}\n",
      "posdsec {0, 1}\n"
     ]
    }
   ],
   "source": [
    "# group by merging variables, that should identify one day in one location \n",
    "    # note that it cloud be more plausible that more than one kidnapping took place one day (e.g retenes )\n",
    "    # TO DO: \n",
    "        # Find literature to support this aussage \n",
    "SE_g=SE_f.groupby(['id_caso_relacionado', 'a_o', 'mes', 'd_a',\n",
    "       'c_digo_dane_de_municipio','latitud_longitud'],dropna=False).sum(numeric_only=True)[['parsec','guerrsec','posdsec','n_parsec','n_guerrsec','n_posdsec']].reset_index()\n",
    "# check if flag repeated \n",
    "# expected to be \n",
    "for flag in ['parsec','guerrsec','posdsec']:\n",
    "    print(flag,set(SE_f[f'{flag}']))"
   ]
  },
  {
   "cell_type": "code",
   "execution_count": 21,
   "metadata": {},
   "outputs": [
    {
     "data": {
      "text/html": [
       "<div>\n",
       "<style scoped>\n",
       "    .dataframe tbody tr th:only-of-type {\n",
       "        vertical-align: middle;\n",
       "    }\n",
       "\n",
       "    .dataframe tbody tr th {\n",
       "        vertical-align: top;\n",
       "    }\n",
       "\n",
       "    .dataframe thead th {\n",
       "        text-align: right;\n",
       "    }\n",
       "</style>\n",
       "<table border=\"1\" class=\"dataframe\">\n",
       "  <thead>\n",
       "    <tr style=\"text-align: right;\">\n",
       "      <th></th>\n",
       "      <th>id_caso_relacionado</th>\n",
       "      <th>a_o</th>\n",
       "      <th>mes</th>\n",
       "      <th>d_a</th>\n",
       "      <th>c_digo_dane_de_municipio</th>\n",
       "      <th>latitud_longitud</th>\n",
       "      <th>parsec</th>\n",
       "      <th>guerrsec</th>\n",
       "      <th>posdsec</th>\n",
       "      <th>n_parsec</th>\n",
       "      <th>n_guerrsec</th>\n",
       "      <th>n_posdsec</th>\n",
       "    </tr>\n",
       "  </thead>\n",
       "  <tbody>\n",
       "    <tr>\n",
       "      <th>0</th>\n",
       "      <td>CR000038</td>\n",
       "      <td>1988</td>\n",
       "      <td>5</td>\n",
       "      <td>27</td>\n",
       "      <td>68152</td>\n",
       "      <td>{'type': 'Point', 'coordinates': [-72.62708286...</td>\n",
       "      <td>0</td>\n",
       "      <td>1</td>\n",
       "      <td>0</td>\n",
       "      <td>0</td>\n",
       "      <td>3</td>\n",
       "      <td>0</td>\n",
       "    </tr>\n",
       "    <tr>\n",
       "      <th>1</th>\n",
       "      <td>CR000041</td>\n",
       "      <td>1988</td>\n",
       "      <td>10</td>\n",
       "      <td>5</td>\n",
       "      <td>86001</td>\n",
       "      <td>{'type': 'Point', 'coordinates': [-76.65027141...</td>\n",
       "      <td>0</td>\n",
       "      <td>1</td>\n",
       "      <td>0</td>\n",
       "      <td>0</td>\n",
       "      <td>4</td>\n",
       "      <td>0</td>\n",
       "    </tr>\n",
       "    <tr>\n",
       "      <th>2</th>\n",
       "      <td>CR000048</td>\n",
       "      <td>1989</td>\n",
       "      <td>4</td>\n",
       "      <td>21</td>\n",
       "      <td>5411</td>\n",
       "      <td>{'type': 'Point', 'coordinates': [-75.81283226...</td>\n",
       "      <td>0</td>\n",
       "      <td>1</td>\n",
       "      <td>0</td>\n",
       "      <td>0</td>\n",
       "      <td>1</td>\n",
       "      <td>0</td>\n",
       "    </tr>\n",
       "    <tr>\n",
       "      <th>3</th>\n",
       "      <td>CR000052</td>\n",
       "      <td>1989</td>\n",
       "      <td>7</td>\n",
       "      <td>19</td>\n",
       "      <td>5040</td>\n",
       "      <td>{'type': 'Point', 'coordinates': [-75.14834842...</td>\n",
       "      <td>0</td>\n",
       "      <td>1</td>\n",
       "      <td>0</td>\n",
       "      <td>0</td>\n",
       "      <td>1</td>\n",
       "      <td>0</td>\n",
       "    </tr>\n",
       "    <tr>\n",
       "      <th>4</th>\n",
       "      <td>CR000053</td>\n",
       "      <td>1989</td>\n",
       "      <td>8</td>\n",
       "      <td>27</td>\n",
       "      <td>68324</td>\n",
       "      <td>{'type': 'Point', 'coordinates': [-73.70080209...</td>\n",
       "      <td>0</td>\n",
       "      <td>1</td>\n",
       "      <td>0</td>\n",
       "      <td>0</td>\n",
       "      <td>1</td>\n",
       "      <td>0</td>\n",
       "    </tr>\n",
       "  </tbody>\n",
       "</table>\n",
       "</div>"
      ],
      "text/plain": [
       "  id_caso_relacionado   a_o  mes  d_a  c_digo_dane_de_municipio  \\\n",
       "0            CR000038  1988    5   27                     68152   \n",
       "1            CR000041  1988   10    5                     86001   \n",
       "2            CR000048  1989    4   21                      5411   \n",
       "3            CR000052  1989    7   19                      5040   \n",
       "4            CR000053  1989    8   27                     68324   \n",
       "\n",
       "                                    latitud_longitud  parsec  guerrsec  \\\n",
       "0  {'type': 'Point', 'coordinates': [-72.62708286...       0         1   \n",
       "1  {'type': 'Point', 'coordinates': [-76.65027141...       0         1   \n",
       "2  {'type': 'Point', 'coordinates': [-75.81283226...       0         1   \n",
       "3  {'type': 'Point', 'coordinates': [-75.14834842...       0         1   \n",
       "4  {'type': 'Point', 'coordinates': [-73.70080209...       0         1   \n",
       "\n",
       "   posdsec  n_parsec  n_guerrsec  n_posdsec  \n",
       "0        0         0           3          0  \n",
       "1        0         0           4          0  \n",
       "2        0         0           1          0  \n",
       "3        0         0           1          0  \n",
       "4        0         0           1          0  "
      ]
     },
     "execution_count": 21,
     "metadata": {},
     "output_type": "execute_result"
    }
   ],
   "source": [
    "SE_g.head(5)"
   ]
  },
  {
   "cell_type": "code",
   "execution_count": 22,
   "metadata": {},
   "outputs": [],
   "source": [
    "# aggregate by municipality and year\n",
    "sec_agg=SE_g[['parsec','guerrsec','posdsec','n_parsec','n_guerrsec','n_posdsec',\n",
    "                \"a_o\",'c_digo_dane_de_municipio']].groupby(['c_digo_dane_de_municipio','a_o']).sum().reset_index()\n",
    "# rename columns\n",
    "rename_dict={'c_digo_dane_de_municipio':'muncode', 'a_o': 'year'}\n",
    "sec_agg=sec_agg.rename(columns=rename_dict)"
   ]
  },
  {
   "cell_type": "code",
   "execution_count": 23,
   "metadata": {},
   "outputs": [
    {
     "data": {
      "text/html": [
       "<div>\n",
       "<style scoped>\n",
       "    .dataframe tbody tr th:only-of-type {\n",
       "        vertical-align: middle;\n",
       "    }\n",
       "\n",
       "    .dataframe tbody tr th {\n",
       "        vertical-align: top;\n",
       "    }\n",
       "\n",
       "    .dataframe thead th {\n",
       "        text-align: right;\n",
       "    }\n",
       "</style>\n",
       "<table border=\"1\" class=\"dataframe\">\n",
       "  <thead>\n",
       "    <tr style=\"text-align: right;\">\n",
       "      <th></th>\n",
       "      <th>muncode</th>\n",
       "      <th>year</th>\n",
       "      <th>parsec</th>\n",
       "      <th>guerrsec</th>\n",
       "      <th>posdsec</th>\n",
       "      <th>n_parsec</th>\n",
       "      <th>n_guerrsec</th>\n",
       "      <th>n_posdsec</th>\n",
       "    </tr>\n",
       "  </thead>\n",
       "  <tbody>\n",
       "    <tr>\n",
       "      <th>0</th>\n",
       "      <td>5000</td>\n",
       "      <td>1990</td>\n",
       "      <td>0</td>\n",
       "      <td>0</td>\n",
       "      <td>0</td>\n",
       "      <td>0</td>\n",
       "      <td>0</td>\n",
       "      <td>0</td>\n",
       "    </tr>\n",
       "    <tr>\n",
       "      <th>1</th>\n",
       "      <td>5000</td>\n",
       "      <td>1991</td>\n",
       "      <td>0</td>\n",
       "      <td>6</td>\n",
       "      <td>0</td>\n",
       "      <td>0</td>\n",
       "      <td>41</td>\n",
       "      <td>0</td>\n",
       "    </tr>\n",
       "    <tr>\n",
       "      <th>2</th>\n",
       "      <td>5000</td>\n",
       "      <td>1992</td>\n",
       "      <td>0</td>\n",
       "      <td>2</td>\n",
       "      <td>0</td>\n",
       "      <td>0</td>\n",
       "      <td>3</td>\n",
       "      <td>0</td>\n",
       "    </tr>\n",
       "    <tr>\n",
       "      <th>3</th>\n",
       "      <td>5000</td>\n",
       "      <td>1993</td>\n",
       "      <td>0</td>\n",
       "      <td>1</td>\n",
       "      <td>0</td>\n",
       "      <td>0</td>\n",
       "      <td>1</td>\n",
       "      <td>0</td>\n",
       "    </tr>\n",
       "    <tr>\n",
       "      <th>4</th>\n",
       "      <td>5000</td>\n",
       "      <td>1994</td>\n",
       "      <td>0</td>\n",
       "      <td>2</td>\n",
       "      <td>0</td>\n",
       "      <td>0</td>\n",
       "      <td>4</td>\n",
       "      <td>0</td>\n",
       "    </tr>\n",
       "  </tbody>\n",
       "</table>\n",
       "</div>"
      ],
      "text/plain": [
       "   muncode  year  parsec  guerrsec  posdsec  n_parsec  n_guerrsec  n_posdsec\n",
       "0     5000  1990       0         0        0         0           0          0\n",
       "1     5000  1991       0         6        0         0          41          0\n",
       "2     5000  1992       0         2        0         0           3          0\n",
       "3     5000  1993       0         1        0         0           1          0\n",
       "4     5000  1994       0         2        0         0           4          0"
      ]
     },
     "execution_count": 23,
     "metadata": {},
     "output_type": "execute_result"
    }
   ],
   "source": [
    "sec_agg.head(5)"
   ]
  },
  {
   "cell_type": "markdown",
   "metadata": {},
   "source": [
    "# Final Merge\n",
    "In this parts all tables are joined so that we get all the variables by municipality and year."
   ]
  },
  {
   "cell_type": "code",
   "execution_count": 24,
   "metadata": {},
   "outputs": [],
   "source": [
    "# join massacres to meltt output\n",
    "sievcac=siev_ca.merge(mass_agg, how='outer', on=['muncode','year'],validate='1:1')\n",
    "\n",
    "# join kidnappings to main\n",
    "sievcac=sievcac.merge(sec_agg, how='outer', on=['muncode','year'],validate='1:1')\n",
    "\n",
    "# fill missings with 0 since would mean on that year and municipalities were not events of said type\n",
    "sievcac=sievcac.fillna(0)"
   ]
  },
  {
   "cell_type": "code",
   "execution_count": 25,
   "metadata": {},
   "outputs": [],
   "source": [
    "# sum the causalities from massacres and attacks etc \n",
    "sievcac['causalities']=sievcac['causalities_x']+sievcac['causalities_y']\n",
    "sievcac=sievcac.drop(['causalities_x','causalities_y'],axis=1)"
   ]
  },
  {
   "cell_type": "code",
   "execution_count": 26,
   "metadata": {},
   "outputs": [
    {
     "data": {
      "text/html": [
       "<div>\n",
       "<style scoped>\n",
       "    .dataframe tbody tr th:only-of-type {\n",
       "        vertical-align: middle;\n",
       "    }\n",
       "\n",
       "    .dataframe tbody tr th {\n",
       "        vertical-align: top;\n",
       "    }\n",
       "\n",
       "    .dataframe thead th {\n",
       "        text-align: right;\n",
       "    }\n",
       "</style>\n",
       "<table border=\"1\" class=\"dataframe\">\n",
       "  <thead>\n",
       "    <tr style=\"text-align: right;\">\n",
       "      <th></th>\n",
       "      <th>muncode</th>\n",
       "      <th>year</th>\n",
       "      <th>clashes</th>\n",
       "      <th>govattacks</th>\n",
       "      <th>guerrattacks</th>\n",
       "      <th>parattacks</th>\n",
       "      <th>posdattacks</th>\n",
       "      <th>parmass</th>\n",
       "      <th>guerrmass</th>\n",
       "      <th>posdmass</th>\n",
       "      <th>parsec</th>\n",
       "      <th>guerrsec</th>\n",
       "      <th>posdsec</th>\n",
       "      <th>n_parsec</th>\n",
       "      <th>n_guerrsec</th>\n",
       "      <th>n_posdsec</th>\n",
       "      <th>causalities</th>\n",
       "    </tr>\n",
       "  </thead>\n",
       "  <tbody>\n",
       "    <tr>\n",
       "      <th>0</th>\n",
       "      <td>5000</td>\n",
       "      <td>1991</td>\n",
       "      <td>1.0</td>\n",
       "      <td>0.0</td>\n",
       "      <td>0.0</td>\n",
       "      <td>0.0</td>\n",
       "      <td>0.0</td>\n",
       "      <td>0.0</td>\n",
       "      <td>0.0</td>\n",
       "      <td>0.0</td>\n",
       "      <td>0.0</td>\n",
       "      <td>6.0</td>\n",
       "      <td>0.0</td>\n",
       "      <td>0.0</td>\n",
       "      <td>41.0</td>\n",
       "      <td>0.0</td>\n",
       "      <td>1.0</td>\n",
       "    </tr>\n",
       "    <tr>\n",
       "      <th>1</th>\n",
       "      <td>5000</td>\n",
       "      <td>1992</td>\n",
       "      <td>0.0</td>\n",
       "      <td>0.0</td>\n",
       "      <td>1.0</td>\n",
       "      <td>0.0</td>\n",
       "      <td>0.0</td>\n",
       "      <td>0.0</td>\n",
       "      <td>0.0</td>\n",
       "      <td>0.0</td>\n",
       "      <td>0.0</td>\n",
       "      <td>2.0</td>\n",
       "      <td>0.0</td>\n",
       "      <td>0.0</td>\n",
       "      <td>3.0</td>\n",
       "      <td>0.0</td>\n",
       "      <td>7.0</td>\n",
       "    </tr>\n",
       "    <tr>\n",
       "      <th>2</th>\n",
       "      <td>5000</td>\n",
       "      <td>1993</td>\n",
       "      <td>1.0</td>\n",
       "      <td>0.0</td>\n",
       "      <td>1.0</td>\n",
       "      <td>0.0</td>\n",
       "      <td>0.0</td>\n",
       "      <td>0.0</td>\n",
       "      <td>0.0</td>\n",
       "      <td>0.0</td>\n",
       "      <td>0.0</td>\n",
       "      <td>1.0</td>\n",
       "      <td>0.0</td>\n",
       "      <td>0.0</td>\n",
       "      <td>1.0</td>\n",
       "      <td>0.0</td>\n",
       "      <td>1.0</td>\n",
       "    </tr>\n",
       "    <tr>\n",
       "      <th>3</th>\n",
       "      <td>5000</td>\n",
       "      <td>1995</td>\n",
       "      <td>0.0</td>\n",
       "      <td>0.0</td>\n",
       "      <td>1.0</td>\n",
       "      <td>0.0</td>\n",
       "      <td>0.0</td>\n",
       "      <td>0.0</td>\n",
       "      <td>0.0</td>\n",
       "      <td>0.0</td>\n",
       "      <td>0.0</td>\n",
       "      <td>0.0</td>\n",
       "      <td>0.0</td>\n",
       "      <td>0.0</td>\n",
       "      <td>0.0</td>\n",
       "      <td>0.0</td>\n",
       "      <td>0.0</td>\n",
       "    </tr>\n",
       "    <tr>\n",
       "      <th>4</th>\n",
       "      <td>5000</td>\n",
       "      <td>1996</td>\n",
       "      <td>0.0</td>\n",
       "      <td>1.0</td>\n",
       "      <td>1.0</td>\n",
       "      <td>0.0</td>\n",
       "      <td>0.0</td>\n",
       "      <td>1.0</td>\n",
       "      <td>0.0</td>\n",
       "      <td>0.0</td>\n",
       "      <td>0.0</td>\n",
       "      <td>1.0</td>\n",
       "      <td>0.0</td>\n",
       "      <td>0.0</td>\n",
       "      <td>5.0</td>\n",
       "      <td>0.0</td>\n",
       "      <td>6.0</td>\n",
       "    </tr>\n",
       "  </tbody>\n",
       "</table>\n",
       "</div>"
      ],
      "text/plain": [
       "   muncode  year  clashes  govattacks  guerrattacks  parattacks  posdattacks  \\\n",
       "0     5000  1991      1.0         0.0           0.0         0.0          0.0   \n",
       "1     5000  1992      0.0         0.0           1.0         0.0          0.0   \n",
       "2     5000  1993      1.0         0.0           1.0         0.0          0.0   \n",
       "3     5000  1995      0.0         0.0           1.0         0.0          0.0   \n",
       "4     5000  1996      0.0         1.0           1.0         0.0          0.0   \n",
       "\n",
       "   parmass  guerrmass  posdmass  parsec  guerrsec  posdsec  n_parsec  \\\n",
       "0      0.0        0.0       0.0     0.0       6.0      0.0       0.0   \n",
       "1      0.0        0.0       0.0     0.0       2.0      0.0       0.0   \n",
       "2      0.0        0.0       0.0     0.0       1.0      0.0       0.0   \n",
       "3      0.0        0.0       0.0     0.0       0.0      0.0       0.0   \n",
       "4      1.0        0.0       0.0     0.0       1.0      0.0       0.0   \n",
       "\n",
       "   n_guerrsec  n_posdsec  causalities  \n",
       "0        41.0        0.0          1.0  \n",
       "1         3.0        0.0          7.0  \n",
       "2         1.0        0.0          1.0  \n",
       "3         0.0        0.0          0.0  \n",
       "4         5.0        0.0          6.0  "
      ]
     },
     "execution_count": 26,
     "metadata": {},
     "output_type": "execute_result"
    }
   ],
   "source": [
    "sievcac.head(5)"
   ]
  },
  {
   "cell_type": "code",
   "execution_count": 27,
   "metadata": {},
   "outputs": [],
   "source": [
    "sievcac.to_csv('SIEVCAC_data.csv')"
   ]
  }
 ],
 "metadata": {
  "kernelspec": {
   "display_name": "base",
   "language": "python",
   "name": "python3"
  },
  "language_info": {
   "codemirror_mode": {
    "name": "ipython",
    "version": 3
   },
   "file_extension": ".py",
   "mimetype": "text/x-python",
   "name": "python",
   "nbconvert_exporter": "python",
   "pygments_lexer": "ipython3",
   "version": "3.11.9"
  }
 },
 "nbformat": 4,
 "nbformat_minor": 2
}
