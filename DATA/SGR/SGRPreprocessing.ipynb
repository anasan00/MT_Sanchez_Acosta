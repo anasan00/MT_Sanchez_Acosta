{
 "cells": [
  {
   "cell_type": "markdown",
   "metadata": {},
   "source": [
    "# SGR collection "
   ]
  },
  {
   "cell_type": "code",
   "execution_count": 1,
   "metadata": {},
   "outputs": [],
   "source": [
    "import pandas as pd\n",
    "import unidecode\n",
    "from SGRHelpFunctions import *\n",
    "from sodapy import Socrata"
   ]
  },
  {
   "cell_type": "code",
   "execution_count": 2,
   "metadata": {},
   "outputs": [],
   "source": [
    "# autentification \n",
    "client = Socrata('www.datos.gov.co',\n",
    "                  'Z2piIpUJNdqwwbIIfrRjclwrI',\n",
    "                  username=\"anasanchezacosta@live.com\",\n",
    "                  password=\"PJ^j$%^es9\")"
   ]
  },
  {
   "cell_type": "markdown",
   "metadata": {},
   "source": [
    "## Download data "
   ]
  },
  {
   "cell_type": "code",
   "execution_count": 3,
   "metadata": {},
   "outputs": [],
   "source": [
    "# read tables with municipality code\n",
    "muni=pd.read_excel(\"DIVIPOLA_Municipios.xlsx\",skiprows=10)\n",
    "muni=muni[muni['Unnamed: 4']=='Municipio']\n",
    "muni.rename({'Código ':'depcode','Código .1':'muncode','Nombre.1': 'munname'},axis=1,inplace=True)\n",
    "muni=muni[['depcode','Nombre','muncode','munname']]\n",
    "muni['muncode']=[int(code) for code in muni['muncode']]\n",
    "#muni['munname']=[remove_accent(w) for w in muni['munname']]\n",
    "#muni['Nombre']=[remove_accent(w) for w in muni['Nombre']]"
   ]
  },
  {
   "cell_type": "code",
   "execution_count": 4,
   "metadata": {},
   "outputs": [
    {
     "name": "stdout",
     "output_type": "stream",
     "text": [
      "2010\n"
     ]
    },
    {
     "name": "stderr",
     "output_type": "stream",
     "text": [
      "d:\\MA\\MasterThesis\\DATA\\SGR\\SGRHelpFunctions.py:26: SettingWithCopyWarning: \n",
      "A value is trying to be set on a copy of a slice from a DataFrame.\n",
      "Try using .loc[row_indexer,col_indexer] = value instead\n",
      "\n",
      "See the caveats in the documentation: https://pandas.pydata.org/pandas-docs/stable/user_guide/indexing.html#returning-a-view-versus-a-copy\n",
      "  muni_merge['munname']=[unidecode.unidecode(string) for string in muni_merge['munname']]\n",
      "d:\\MA\\MasterThesis\\DATA\\SGR\\SGRHelpFunctions.py:27: SettingWithCopyWarning: \n",
      "A value is trying to be set on a copy of a slice from a DataFrame.\n",
      "Try using .loc[row_indexer,col_indexer] = value instead\n",
      "\n",
      "See the caveats in the documentation: https://pandas.pydata.org/pandas-docs/stable/user_guide/indexing.html#returning-a-view-versus-a-copy\n",
      "  muni_merge['Nombre']=[unidecode.unidecode(string) for string in muni_merge['Nombre']]\n"
     ]
    },
    {
     "name": "stdout",
     "output_type": "stream",
     "text": [
      "1103    MUNICIPIO NN\n",
      "Name: municipio, dtype: object\n",
      "\n",
      "\n",
      "2011\n"
     ]
    },
    {
     "name": "stderr",
     "output_type": "stream",
     "text": [
      "d:\\MA\\MasterThesis\\DATA\\SGR\\SGRHelpFunctions.py:26: SettingWithCopyWarning: \n",
      "A value is trying to be set on a copy of a slice from a DataFrame.\n",
      "Try using .loc[row_indexer,col_indexer] = value instead\n",
      "\n",
      "See the caveats in the documentation: https://pandas.pydata.org/pandas-docs/stable/user_guide/indexing.html#returning-a-view-versus-a-copy\n",
      "  muni_merge['munname']=[unidecode.unidecode(string) for string in muni_merge['munname']]\n",
      "d:\\MA\\MasterThesis\\DATA\\SGR\\SGRHelpFunctions.py:27: SettingWithCopyWarning: \n",
      "A value is trying to be set on a copy of a slice from a DataFrame.\n",
      "Try using .loc[row_indexer,col_indexer] = value instead\n",
      "\n",
      "See the caveats in the documentation: https://pandas.pydata.org/pandas-docs/stable/user_guide/indexing.html#returning-a-view-versus-a-copy\n",
      "  muni_merge['Nombre']=[unidecode.unidecode(string) for string in muni_merge['Nombre']]\n"
     ]
    },
    {
     "name": "stdout",
     "output_type": "stream",
     "text": [
      "1103              MUNICIPIO NN\n",
      "1104     MUNICIPIO NN CASANARE\n",
      "1105     MUNICIPIO NN PUTUMAYO\n",
      "1106    MUNICIPIO NN SANTANDER\n",
      "Name: municipio, dtype: object\n",
      "\n",
      "\n",
      "2012\n"
     ]
    },
    {
     "name": "stderr",
     "output_type": "stream",
     "text": [
      "d:\\MA\\MasterThesis\\DATA\\SGR\\SGRHelpFunctions.py:26: SettingWithCopyWarning: \n",
      "A value is trying to be set on a copy of a slice from a DataFrame.\n",
      "Try using .loc[row_indexer,col_indexer] = value instead\n",
      "\n",
      "See the caveats in the documentation: https://pandas.pydata.org/pandas-docs/stable/user_guide/indexing.html#returning-a-view-versus-a-copy\n",
      "  muni_merge['munname']=[unidecode.unidecode(string) for string in muni_merge['munname']]\n",
      "d:\\MA\\MasterThesis\\DATA\\SGR\\SGRHelpFunctions.py:27: SettingWithCopyWarning: \n",
      "A value is trying to be set on a copy of a slice from a DataFrame.\n",
      "Try using .loc[row_indexer,col_indexer] = value instead\n",
      "\n",
      "See the caveats in the documentation: https://pandas.pydata.org/pandas-docs/stable/user_guide/indexing.html#returning-a-view-versus-a-copy\n",
      "  muni_merge['Nombre']=[unidecode.unidecode(string) for string in muni_merge['Nombre']]\n"
     ]
    },
    {
     "name": "stdout",
     "output_type": "stream",
     "text": [
      "1103              MUNICIPIO NN\n",
      "1104     MUNICIPIO NN CASANARE\n",
      "1105         MUNICIPIO NN META\n",
      "1106    MUNICIPIO NN SANTANDER\n",
      "Name: municipio, dtype: object\n",
      "\n",
      "\n",
      "2013\n"
     ]
    },
    {
     "name": "stderr",
     "output_type": "stream",
     "text": [
      "d:\\MA\\MasterThesis\\DATA\\SGR\\SGRHelpFunctions.py:26: SettingWithCopyWarning: \n",
      "A value is trying to be set on a copy of a slice from a DataFrame.\n",
      "Try using .loc[row_indexer,col_indexer] = value instead\n",
      "\n",
      "See the caveats in the documentation: https://pandas.pydata.org/pandas-docs/stable/user_guide/indexing.html#returning-a-view-versus-a-copy\n",
      "  muni_merge['munname']=[unidecode.unidecode(string) for string in muni_merge['munname']]\n",
      "d:\\MA\\MasterThesis\\DATA\\SGR\\SGRHelpFunctions.py:27: SettingWithCopyWarning: \n",
      "A value is trying to be set on a copy of a slice from a DataFrame.\n",
      "Try using .loc[row_indexer,col_indexer] = value instead\n",
      "\n",
      "See the caveats in the documentation: https://pandas.pydata.org/pandas-docs/stable/user_guide/indexing.html#returning-a-view-versus-a-copy\n",
      "  muni_merge['Nombre']=[unidecode.unidecode(string) for string in muni_merge['Nombre']]\n"
     ]
    },
    {
     "name": "stdout",
     "output_type": "stream",
     "text": [
      "1103              MUNICIPIO NN\n",
      "1104     MUNICIPIO NN CASANARE\n",
      "1105         MUNICIPIO NN META\n",
      "1106    MUNICIPIO NN SANTANDER\n",
      "Name: municipio, dtype: object\n",
      "\n",
      "\n",
      "2014\n"
     ]
    },
    {
     "name": "stderr",
     "output_type": "stream",
     "text": [
      "d:\\MA\\MasterThesis\\DATA\\SGR\\SGRHelpFunctions.py:26: SettingWithCopyWarning: \n",
      "A value is trying to be set on a copy of a slice from a DataFrame.\n",
      "Try using .loc[row_indexer,col_indexer] = value instead\n",
      "\n",
      "See the caveats in the documentation: https://pandas.pydata.org/pandas-docs/stable/user_guide/indexing.html#returning-a-view-versus-a-copy\n",
      "  muni_merge['munname']=[unidecode.unidecode(string) for string in muni_merge['munname']]\n",
      "d:\\MA\\MasterThesis\\DATA\\SGR\\SGRHelpFunctions.py:27: SettingWithCopyWarning: \n",
      "A value is trying to be set on a copy of a slice from a DataFrame.\n",
      "Try using .loc[row_indexer,col_indexer] = value instead\n",
      "\n",
      "See the caveats in the documentation: https://pandas.pydata.org/pandas-docs/stable/user_guide/indexing.html#returning-a-view-versus-a-copy\n",
      "  muni_merge['Nombre']=[unidecode.unidecode(string) for string in muni_merge['Nombre']]\n"
     ]
    },
    {
     "name": "stdout",
     "output_type": "stream",
     "text": [
      "1103              MUNICIPIO NN\n",
      "1104     MUNICIPIO NN CASANARE\n",
      "1105    MUNICIPIO NN SANTANDER\n",
      "Name: municipio, dtype: object\n",
      "\n",
      "\n",
      "2015\n"
     ]
    },
    {
     "name": "stderr",
     "output_type": "stream",
     "text": [
      "d:\\MA\\MasterThesis\\DATA\\SGR\\SGRHelpFunctions.py:26: SettingWithCopyWarning: \n",
      "A value is trying to be set on a copy of a slice from a DataFrame.\n",
      "Try using .loc[row_indexer,col_indexer] = value instead\n",
      "\n",
      "See the caveats in the documentation: https://pandas.pydata.org/pandas-docs/stable/user_guide/indexing.html#returning-a-view-versus-a-copy\n",
      "  muni_merge['munname']=[unidecode.unidecode(string) for string in muni_merge['munname']]\n",
      "d:\\MA\\MasterThesis\\DATA\\SGR\\SGRHelpFunctions.py:27: SettingWithCopyWarning: \n",
      "A value is trying to be set on a copy of a slice from a DataFrame.\n",
      "Try using .loc[row_indexer,col_indexer] = value instead\n",
      "\n",
      "See the caveats in the documentation: https://pandas.pydata.org/pandas-docs/stable/user_guide/indexing.html#returning-a-view-versus-a-copy\n",
      "  muni_merge['Nombre']=[unidecode.unidecode(string) for string in muni_merge['Nombre']]\n"
     ]
    },
    {
     "name": "stdout",
     "output_type": "stream",
     "text": [
      "1103                  MUNICIPIO NN\n",
      "1104         MUNICIPIO NN CASANARE\n",
      "1105        MUNICIPIO NN SANTANDER\n",
      "1106    PENDIENTE CERTIFICADO IGAC\n",
      "1107    PENDIENTE CERTIFICADO IGAC\n",
      "Name: municipio, dtype: object\n",
      "\n",
      "\n",
      "2016\n"
     ]
    },
    {
     "name": "stderr",
     "output_type": "stream",
     "text": [
      "d:\\MA\\MasterThesis\\DATA\\SGR\\SGRHelpFunctions.py:26: SettingWithCopyWarning: \n",
      "A value is trying to be set on a copy of a slice from a DataFrame.\n",
      "Try using .loc[row_indexer,col_indexer] = value instead\n",
      "\n",
      "See the caveats in the documentation: https://pandas.pydata.org/pandas-docs/stable/user_guide/indexing.html#returning-a-view-versus-a-copy\n",
      "  muni_merge['munname']=[unidecode.unidecode(string) for string in muni_merge['munname']]\n",
      "d:\\MA\\MasterThesis\\DATA\\SGR\\SGRHelpFunctions.py:27: SettingWithCopyWarning: \n",
      "A value is trying to be set on a copy of a slice from a DataFrame.\n",
      "Try using .loc[row_indexer,col_indexer] = value instead\n",
      "\n",
      "See the caveats in the documentation: https://pandas.pydata.org/pandas-docs/stable/user_guide/indexing.html#returning-a-view-versus-a-copy\n",
      "  muni_merge['Nombre']=[unidecode.unidecode(string) for string in muni_merge['Nombre']]\n"
     ]
    },
    {
     "name": "stdout",
     "output_type": "stream",
     "text": [
      "1103                  MUNICIPIO NN\n",
      "1104         MUNICIPIO NN CASANARE\n",
      "1105        MUNICIPIO NN SANTANDER\n",
      "1106    PENDIENTE CERTIFICADO IGAC\n",
      "1107    PENDIENTE CERTIFICADO IGAC\n",
      "Name: municipio, dtype: object\n",
      "\n",
      "\n",
      "2017\n"
     ]
    },
    {
     "name": "stderr",
     "output_type": "stream",
     "text": [
      "d:\\MA\\MasterThesis\\DATA\\SGR\\SGRHelpFunctions.py:26: SettingWithCopyWarning: \n",
      "A value is trying to be set on a copy of a slice from a DataFrame.\n",
      "Try using .loc[row_indexer,col_indexer] = value instead\n",
      "\n",
      "See the caveats in the documentation: https://pandas.pydata.org/pandas-docs/stable/user_guide/indexing.html#returning-a-view-versus-a-copy\n",
      "  muni_merge['munname']=[unidecode.unidecode(string) for string in muni_merge['munname']]\n",
      "d:\\MA\\MasterThesis\\DATA\\SGR\\SGRHelpFunctions.py:27: SettingWithCopyWarning: \n",
      "A value is trying to be set on a copy of a slice from a DataFrame.\n",
      "Try using .loc[row_indexer,col_indexer] = value instead\n",
      "\n",
      "See the caveats in the documentation: https://pandas.pydata.org/pandas-docs/stable/user_guide/indexing.html#returning-a-view-versus-a-copy\n",
      "  muni_merge['Nombre']=[unidecode.unidecode(string) for string in muni_merge['Nombre']]\n"
     ]
    },
    {
     "name": "stdout",
     "output_type": "stream",
     "text": [
      "1103                  MUNICIPIO NN\n",
      "1104         MUNICIPIO NN CASANARE\n",
      "1105        MUNICIPIO NN SANTANDER\n",
      "1106    PENDIENTE CERTIFICADO IGAC\n",
      "1107    PENDIENTE CERTIFICADO IGAC\n",
      "1108    PENDIENTE CERTIFICADO IGAC\n",
      "Name: municipio, dtype: object\n",
      "\n",
      "\n",
      "2018\n"
     ]
    },
    {
     "name": "stderr",
     "output_type": "stream",
     "text": [
      "d:\\MA\\MasterThesis\\DATA\\SGR\\SGRHelpFunctions.py:26: SettingWithCopyWarning: \n",
      "A value is trying to be set on a copy of a slice from a DataFrame.\n",
      "Try using .loc[row_indexer,col_indexer] = value instead\n",
      "\n",
      "See the caveats in the documentation: https://pandas.pydata.org/pandas-docs/stable/user_guide/indexing.html#returning-a-view-versus-a-copy\n",
      "  muni_merge['munname']=[unidecode.unidecode(string) for string in muni_merge['munname']]\n",
      "d:\\MA\\MasterThesis\\DATA\\SGR\\SGRHelpFunctions.py:27: SettingWithCopyWarning: \n",
      "A value is trying to be set on a copy of a slice from a DataFrame.\n",
      "Try using .loc[row_indexer,col_indexer] = value instead\n",
      "\n",
      "See the caveats in the documentation: https://pandas.pydata.org/pandas-docs/stable/user_guide/indexing.html#returning-a-view-versus-a-copy\n",
      "  muni_merge['Nombre']=[unidecode.unidecode(string) for string in muni_merge['Nombre']]\n"
     ]
    },
    {
     "name": "stdout",
     "output_type": "stream",
     "text": [
      "1103                  MUNICIPIO NN\n",
      "1104         MUNICIPIO NN CASANARE\n",
      "1105             MUNICIPIO NN META\n",
      "1106        MUNICIPIO NN SANTANDER\n",
      "1107    PENDIENTE CERTIFICADO IGAC\n",
      "1108    PENDIENTE CERTIFICADO IGAC\n",
      "Name: municipio, dtype: object\n",
      "\n",
      "\n",
      "2019\n"
     ]
    },
    {
     "name": "stderr",
     "output_type": "stream",
     "text": [
      "d:\\MA\\MasterThesis\\DATA\\SGR\\SGRHelpFunctions.py:26: SettingWithCopyWarning: \n",
      "A value is trying to be set on a copy of a slice from a DataFrame.\n",
      "Try using .loc[row_indexer,col_indexer] = value instead\n",
      "\n",
      "See the caveats in the documentation: https://pandas.pydata.org/pandas-docs/stable/user_guide/indexing.html#returning-a-view-versus-a-copy\n",
      "  muni_merge['munname']=[unidecode.unidecode(string) for string in muni_merge['munname']]\n",
      "d:\\MA\\MasterThesis\\DATA\\SGR\\SGRHelpFunctions.py:27: SettingWithCopyWarning: \n",
      "A value is trying to be set on a copy of a slice from a DataFrame.\n",
      "Try using .loc[row_indexer,col_indexer] = value instead\n",
      "\n",
      "See the caveats in the documentation: https://pandas.pydata.org/pandas-docs/stable/user_guide/indexing.html#returning-a-view-versus-a-copy\n",
      "  muni_merge['Nombre']=[unidecode.unidecode(string) for string in muni_merge['Nombre']]\n"
     ]
    },
    {
     "name": "stdout",
     "output_type": "stream",
     "text": [
      "1103              MUNICIPIO NN\n",
      "1104     MUNICIPIO NN CASANARE\n",
      "1105         MUNICIPIO NN META\n",
      "1106    MUNICIPIO NN SANTANDER\n",
      "Name: municipio, dtype: object\n",
      "\n",
      "\n",
      "2020\n",
      "1103             MUNICIPIO NN\n",
      "1104    MUNICIPIO NN CASANARE\n",
      "Name: municipio, dtype: object\n",
      "\n",
      "\n"
     ]
    },
    {
     "name": "stderr",
     "output_type": "stream",
     "text": [
      "d:\\MA\\MasterThesis\\DATA\\SGR\\SGRHelpFunctions.py:26: SettingWithCopyWarning: \n",
      "A value is trying to be set on a copy of a slice from a DataFrame.\n",
      "Try using .loc[row_indexer,col_indexer] = value instead\n",
      "\n",
      "See the caveats in the documentation: https://pandas.pydata.org/pandas-docs/stable/user_guide/indexing.html#returning-a-view-versus-a-copy\n",
      "  muni_merge['munname']=[unidecode.unidecode(string) for string in muni_merge['munname']]\n",
      "d:\\MA\\MasterThesis\\DATA\\SGR\\SGRHelpFunctions.py:27: SettingWithCopyWarning: \n",
      "A value is trying to be set on a copy of a slice from a DataFrame.\n",
      "Try using .loc[row_indexer,col_indexer] = value instead\n",
      "\n",
      "See the caveats in the documentation: https://pandas.pydata.org/pandas-docs/stable/user_guide/indexing.html#returning-a-view-versus-a-copy\n",
      "  muni_merge['Nombre']=[unidecode.unidecode(string) for string in muni_merge['Nombre']]\n"
     ]
    }
   ],
   "source": [
    "access_keys={'2010':'dgq4-4ggr','2011':'2cxs-tgi6','2012':'hw6p-jjqm',\n",
    "             '2013':'87yq-g55j','2014':'3uyt-neud','2015':'649h-wzpy','2016':'p94z-xr9z',\n",
    "             '2017':'adet-54dq','2018':'kn7u-ns9x','2019':'3su8-sbhx','2020':'w79x-qwdk',\n",
    "             '2021':'4jxf-ws9e'}\n",
    "rev_years=[]\n",
    "for year in range(2010,2021):\n",
    "    print(year)\n",
    "    dta_year=get_revenues(f'{year}',access_keys,client,muni)\n",
    "    rev_years.append(dta_year)\n",
    "\n",
    "cap_rev=pd.concat(rev_years).fillna(0)\n",
    "cap_rev['year']=cap_rev['year'].astype(int)"
   ]
  },
  {
   "cell_type": "code",
   "execution_count": 5,
   "metadata": {},
   "outputs": [
    {
     "data": {
      "text/html": [
       "<div>\n",
       "<style scoped>\n",
       "    .dataframe tbody tr th:only-of-type {\n",
       "        vertical-align: middle;\n",
       "    }\n",
       "\n",
       "    .dataframe tbody tr th {\n",
       "        vertical-align: top;\n",
       "    }\n",
       "\n",
       "    .dataframe thead th {\n",
       "        text-align: right;\n",
       "    }\n",
       "</style>\n",
       "<table border=\"1\" class=\"dataframe\">\n",
       "  <thead>\n",
       "    <tr style=\"text-align: right;\">\n",
       "      <th></th>\n",
       "      <th>muncode</th>\n",
       "      <th>regalias_cop</th>\n",
       "      <th>prod_gravable_bls_kpc</th>\n",
       "      <th>year</th>\n",
       "    </tr>\n",
       "  </thead>\n",
       "  <tbody>\n",
       "  </tbody>\n",
       "</table>\n",
       "</div>"
      ],
      "text/plain": [
       "Empty DataFrame\n",
       "Columns: [muncode, regalias_cop, prod_gravable_bls_kpc, year]\n",
       "Index: []"
      ]
     },
     "execution_count": 5,
     "metadata": {},
     "output_type": "execute_result"
    }
   ],
   "source": [
    "cap_rev[cap_rev.duplicated(subset=['muncode','year'],keep=False)]"
   ]
  },
  {
   "cell_type": "code",
   "execution_count": 6,
   "metadata": {},
   "outputs": [],
   "source": [
    "cap_rev.to_csv('oil_prod_revenue.csv')"
   ]
  }
 ],
 "metadata": {
  "kernelspec": {
   "display_name": "base",
   "language": "python",
   "name": "python3"
  },
  "language_info": {
   "codemirror_mode": {
    "name": "ipython",
    "version": 3
   },
   "file_extension": ".py",
   "mimetype": "text/x-python",
   "name": "python",
   "nbconvert_exporter": "python",
   "pygments_lexer": "ipython3",
   "version": "3.11.9"
  }
 },
 "nbformat": 4,
 "nbformat_minor": 2
}
