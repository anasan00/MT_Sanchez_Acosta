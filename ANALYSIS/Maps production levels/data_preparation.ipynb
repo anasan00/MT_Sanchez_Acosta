{
 "cells": [
  {
   "cell_type": "markdown",
   "metadata": {},
   "source": [
    "# Data preparation to create maps \n",
    "Here I will unite the coordinate infotmation to the relevant production information. I want ti create 4 maps: \n",
    "* Two with the production levels from Dube & Vargas, used for the analysis \n",
    "* Two with the most recent production levels for comparaison"
   ]
  },
  {
   "cell_type": "code",
   "execution_count": 2,
   "metadata": {},
   "outputs": [],
   "source": [
    "# load packages \n",
    "import pandas as pd\n",
    "import geopandas as gpd\n",
    "import os\n",
    "from shapely import wkt"
   ]
  },
  {
   "cell_type": "markdown",
   "metadata": {},
   "source": [
    "## Load data "
   ]
  },
  {
   "cell_type": "code",
   "execution_count": 3,
   "metadata": {},
   "outputs": [
    {
     "name": "stdout",
     "output_type": "stream",
     "text": [
      "Current directory:  d:\\MA\\MasterThesis\n"
     ]
    }
   ],
   "source": [
    "# set current directory to master thesis folder\n",
    "os.chdir('..')\n",
    "os.chdir('..')\n",
    "\n",
    "print('Current directory: ', os.getcwd())"
   ]
  },
  {
   "cell_type": "code",
   "execution_count": 4,
   "metadata": {},
   "outputs": [],
   "source": [
    "base=pd.read_csv('DATA\\BaseAnalysis.csv',index_col=0)\n",
    "coordinates=pd.read_csv('DATA\\CHELSA\\muncode_coordinates.csv',index_col=0)"
   ]
  },
  {
   "cell_type": "markdown",
   "metadata": {},
   "source": [
    "## Create database for production levels from Dube & Vargas"
   ]
  },
  {
   "cell_type": "code",
   "execution_count": 5,
   "metadata": {},
   "outputs": [],
   "source": [
    "# get data for one year. since column is contant it does not matter which\n",
    "DV_prod=base[base.year==1990][['muncode','oilprod88_dv', 'cofint_dv']]"
   ]
  },
  {
   "cell_type": "code",
   "execution_count": 6,
   "metadata": {},
   "outputs": [
    {
     "data": {
      "text/html": [
       "<div>\n",
       "<style scoped>\n",
       "    .dataframe tbody tr th:only-of-type {\n",
       "        vertical-align: middle;\n",
       "    }\n",
       "\n",
       "    .dataframe tbody tr th {\n",
       "        vertical-align: top;\n",
       "    }\n",
       "\n",
       "    .dataframe thead th {\n",
       "        text-align: right;\n",
       "    }\n",
       "</style>\n",
       "<table border=\"1\" class=\"dataframe\">\n",
       "  <thead>\n",
       "    <tr style=\"text-align: right;\">\n",
       "      <th></th>\n",
       "      <th>muncode</th>\n",
       "      <th>oilprod88_dv</th>\n",
       "      <th>cofint_dv</th>\n",
       "      <th>geometry</th>\n",
       "    </tr>\n",
       "    <tr>\n",
       "      <th>_merge</th>\n",
       "      <th></th>\n",
       "      <th></th>\n",
       "      <th></th>\n",
       "      <th></th>\n",
       "    </tr>\n",
       "  </thead>\n",
       "  <tbody>\n",
       "    <tr>\n",
       "      <th>left_only</th>\n",
       "      <td>0</td>\n",
       "      <td>0</td>\n",
       "      <td>0</td>\n",
       "      <td>0</td>\n",
       "    </tr>\n",
       "    <tr>\n",
       "      <th>right_only</th>\n",
       "      <td>0</td>\n",
       "      <td>0</td>\n",
       "      <td>0</td>\n",
       "      <td>0</td>\n",
       "    </tr>\n",
       "    <tr>\n",
       "      <th>both</th>\n",
       "      <td>975</td>\n",
       "      <td>975</td>\n",
       "      <td>956</td>\n",
       "      <td>975</td>\n",
       "    </tr>\n",
       "  </tbody>\n",
       "</table>\n",
       "</div>"
      ],
      "text/plain": [
       "            muncode  oilprod88_dv  cofint_dv  geometry\n",
       "_merge                                                \n",
       "left_only         0             0          0         0\n",
       "right_only        0             0          0         0\n",
       "both            975           975        956       975"
      ]
     },
     "execution_count": 6,
     "metadata": {},
     "output_type": "execute_result"
    }
   ],
   "source": [
    "#merge coordinates\n",
    "DV_m=DV_prod.merge(coordinates,how='outer',indicator=True,validate=\"1:1\")\n",
    "# check merge \n",
    "DV_m.groupby('_merge').count()"
   ]
  },
  {
   "cell_type": "code",
   "execution_count": 7,
   "metadata": {},
   "outputs": [],
   "source": [
    "# define column as geometry \n",
    "DV_m['geometry'] = DV_m['geometry'].apply(wkt.loads)"
   ]
  },
  {
   "cell_type": "code",
   "execution_count": 8,
   "metadata": {},
   "outputs": [
    {
     "name": "stderr",
     "output_type": "stream",
     "text": [
      "C:\\Users\\anasa\\AppData\\Local\\Temp\\ipykernel_22980\\148062733.py:7: UserWarning: Column names longer than 10 characters will be truncated when saved to ESRI Shapefile.\n",
      "  DV_geo.to_file('ANALYSIS\\Maps production levels\\DV_prod.shp')\n"
     ]
    }
   ],
   "source": [
    "# drop indicator columns\n",
    "DV_m.drop(columns='_merge',inplace=True)\n",
    "\n",
    "# turn to geopandas object\n",
    "DV_geo = gpd.GeoDataFrame(DV_m, geometry=\"geometry\")\n",
    "DV_geo.crs = \"EPSG:4326\"\n",
    "DV_geo.to_file('ANALYSIS\\Maps production levels\\DV_prod.shp')\n"
   ]
  },
  {
   "cell_type": "markdown",
   "metadata": {},
   "source": [
    "## Create Database for last production levels available "
   ]
  },
  {
   "cell_type": "code",
   "execution_count": null,
   "metadata": {},
   "outputs": [
    {
     "data": {
      "text/plain": [
       "Index(['year', 'muncode', 'depcode', 'Nombre', 'munname', 'clashes',\n",
       "       'govattacks', 'guerrattacks', 'parattacks', 'posdattacks', 'parmass',\n",
       "       'guerrmass', 'posdmass', 'n_parsec', 'n_guerrsec', 'n_posdsec',\n",
       "       'causalities', 'posdsec_HRDAG', 'parsec_HRDAG', 'guersec_HRDAG',\n",
       "       'ac_cafe', 'p_cafe', 'H_coca', 'rainfall', 'temperature',\n",
       "       'prod_gravable_bls_kpc', 'oil_prod', 'oil_production', 'top3cof',\n",
       "       'coca99', 'linternalp', 'lop', 'lpop', 'ltop3cof', 'lcaprev',\n",
       "       'oilprod88_dv', 'cofint_dv', 'rainfall_dv', 'temperature_dv',\n",
       "       'p_cafexlinternalp', 'oil_productionxlop', 'cofint_dvxlinternalp',\n",
       "       'oilprod88_dvxlop', 'coca99xyear', 'rainfall_dvxltop3cof',\n",
       "       'temperature_dvxltop3cof', 'rt_dv', 'rt_dvxltop3cof',\n",
       "       'rainfallxltop3cof', 'temperaturexltop3cof', 'rt', 'rtxltop3cof',\n",
       "       '_Rreg_1.0', '_Rreg_2.0', '_Rreg_3.0', '_Rreg_4.0', '_RregXyear_1',\n",
       "       '_RregXyear_2', '_RregXyear_3', '_RregXyear_4', 'period'],\n",
       "      dtype='object')"
      ]
     },
     "execution_count": 8,
     "metadata": {},
     "output_type": "execute_result"
    }
   ],
   "source": [
    "base.columns"
   ]
  },
  {
   "cell_type": "code",
   "execution_count": 20,
   "metadata": {},
   "outputs": [],
   "source": [
    "# get production data from 2020\n",
    "prod=base[base.year==2020][['muncode','oil_production', 'p_cafe']]"
   ]
  },
  {
   "cell_type": "code",
   "execution_count": 21,
   "metadata": {},
   "outputs": [
    {
     "data": {
      "text/plain": [
       "count    975.000000\n",
       "mean       0.297104\n",
       "std        3.025166\n",
       "min        0.000000\n",
       "25%        0.000000\n",
       "50%        0.000000\n",
       "75%        0.000000\n",
       "max       74.847063\n",
       "Name: oil_production, dtype: float64"
      ]
     },
     "execution_count": 21,
     "metadata": {},
     "output_type": "execute_result"
    }
   ],
   "source": [
    "prod.oil_production.describe()"
   ]
  },
  {
   "cell_type": "code",
   "execution_count": 25,
   "metadata": {},
   "outputs": [
    {
     "data": {
      "text/html": [
       "<div>\n",
       "<style scoped>\n",
       "    .dataframe tbody tr th:only-of-type {\n",
       "        vertical-align: middle;\n",
       "    }\n",
       "\n",
       "    .dataframe tbody tr th {\n",
       "        vertical-align: top;\n",
       "    }\n",
       "\n",
       "    .dataframe thead th {\n",
       "        text-align: right;\n",
       "    }\n",
       "</style>\n",
       "<table border=\"1\" class=\"dataframe\">\n",
       "  <thead>\n",
       "    <tr style=\"text-align: right;\">\n",
       "      <th></th>\n",
       "      <th>muncode</th>\n",
       "      <th>oil_production</th>\n",
       "      <th>p_cafe</th>\n",
       "      <th>geometry</th>\n",
       "    </tr>\n",
       "    <tr>\n",
       "      <th>_merge</th>\n",
       "      <th></th>\n",
       "      <th></th>\n",
       "      <th></th>\n",
       "      <th></th>\n",
       "    </tr>\n",
       "  </thead>\n",
       "  <tbody>\n",
       "    <tr>\n",
       "      <th>left_only</th>\n",
       "      <td>0</td>\n",
       "      <td>0</td>\n",
       "      <td>0</td>\n",
       "      <td>0</td>\n",
       "    </tr>\n",
       "    <tr>\n",
       "      <th>right_only</th>\n",
       "      <td>0</td>\n",
       "      <td>0</td>\n",
       "      <td>0</td>\n",
       "      <td>0</td>\n",
       "    </tr>\n",
       "    <tr>\n",
       "      <th>both</th>\n",
       "      <td>975</td>\n",
       "      <td>975</td>\n",
       "      <td>975</td>\n",
       "      <td>975</td>\n",
       "    </tr>\n",
       "  </tbody>\n",
       "</table>\n",
       "</div>"
      ],
      "text/plain": [
       "            muncode  oil_production  p_cafe  geometry\n",
       "_merge                                               \n",
       "left_only         0               0       0         0\n",
       "right_only        0               0       0         0\n",
       "both            975             975     975       975"
      ]
     },
     "execution_count": 25,
     "metadata": {},
     "output_type": "execute_result"
    }
   ],
   "source": [
    "#merge coordinates\n",
    "prod_m=prod.merge(coordinates,how='outer',indicator=True,validate=\"1:1\")\n",
    "# check merge \n",
    "prod_m.groupby('_merge').count()"
   ]
  },
  {
   "cell_type": "code",
   "execution_count": 26,
   "metadata": {},
   "outputs": [
    {
     "name": "stderr",
     "output_type": "stream",
     "text": [
      "C:\\Users\\anasa\\AppData\\Local\\Temp\\ipykernel_22980\\369581866.py:10: UserWarning: Column names longer than 10 characters will be truncated when saved to ESRI Shapefile.\n",
      "  prod_geo.to_file('ANALYSIS\\Maps production levels\\prod_2020.shp')\n"
     ]
    }
   ],
   "source": [
    "# define column as geometry \n",
    "prod_m['geometry'] = prod_m['geometry'].apply(wkt.loads)\n",
    "\n",
    "# drop indicator columns\n",
    "prod_m.drop(columns='_merge',inplace=True)\n",
    "\n",
    "# turn to geopandas object\n",
    "prod_geo = gpd.GeoDataFrame(prod_m, geometry=\"geometry\")\n",
    "prod_geo.crs = \"EPSG:4326\"\n",
    "prod_geo.to_file('ANALYSIS\\Maps production levels\\prod_2020.shp')"
   ]
  }
 ],
 "metadata": {
  "kernelspec": {
   "display_name": "base",
   "language": "python",
   "name": "python3"
  },
  "language_info": {
   "codemirror_mode": {
    "name": "ipython",
    "version": 3
   },
   "file_extension": ".py",
   "mimetype": "text/x-python",
   "name": "python",
   "nbconvert_exporter": "python",
   "pygments_lexer": "ipython3",
   "version": "3.11.9"
  }
 },
 "nbformat": 4,
 "nbformat_minor": 2
}
